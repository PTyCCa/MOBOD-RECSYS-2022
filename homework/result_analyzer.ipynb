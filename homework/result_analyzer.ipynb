{
 "cells": [
  {
   "cell_type": "code",
   "execution_count": null,
   "metadata": {
    "pycharm": {
     "is_executing": true,
     "name": "#%%\n"
    }
   },
   "outputs": [],
   "source": [
    "from collections import namedtuple\n",
    "\n",
    "import pandas as pd\n",
    "import numpy as np\n",
    "import scipy.stats as ss\n",
    "\n",
    "from pyspark.sql import SparkSession, Row\n",
    "import pyspark.sql.functions as spf\n",
    "from pyspark.sql.types import *\n",
    "\n",
    "import matplotlib.pyplot as plt\n",
    "\n",
    "%matplotlib inline"
   ]
  },
  {
   "cell_type": "code",
   "execution_count": null,
   "outputs": [],
   "source": [
    "app_name = \"svorobiev\"\n",
    "hdfs_data_path = \"/user/mob202273/my_remote_dir/\""
   ],
   "metadata": {
    "collapsed": false,
    "pycharm": {
     "name": "#%%\n"
    }
   }
  },
  {
   "cell_type": "code",
   "execution_count": null,
   "outputs": [],
   "source": [
    "spark = SparkSession.builder.appName(app_name).getOrCreate()"
   ],
   "metadata": {
    "collapsed": false,
    "pycharm": {
     "name": "#%%\n"
    }
   }
  },
  {
   "cell_type": "code",
   "execution_count": null,
   "outputs": [],
   "source": [
    "data = spark.read.json(hdfs_data_path)\n",
    "\n",
    "data.printSchema()"
   ],
   "metadata": {
    "collapsed": false,
    "pycharm": {
     "name": "#%%\n"
    }
   }
  },
  {
   "cell_type": "code",
   "execution_count": null,
   "outputs": [],
   "source": [
    "data.groupBy(\"message\").count().show()"
   ],
   "metadata": {
    "collapsed": false,
    "pycharm": {
     "name": "#%%\n"
    }
   }
  },
  {
   "cell_type": "markdown",
   "source": [
    "## Visualize sessions"
   ],
   "metadata": {
    "collapsed": false,
    "pycharm": {
     "name": "#%% md\n"
    }
   }
  },
  {
   "cell_type": "code",
   "execution_count": null,
   "outputs": [],
   "source": [
    "experiment = \"MY_VS_CONTEXTUAL\"\n",
    "\n",
    "Session = namedtuple(\"Session\", [\"timestamp\", \"tracks\", \"time\"])\n",
    "\n",
    "schema = ArrayType(StructType([\n",
    "    StructField(\"timestamp\", LongType(), False),\n",
    "    StructField(\"tracks\", LongType(), False),\n",
    "    StructField(\"time\", FloatType(), False)\n",
    "]))\n",
    "\n",
    "def sessionize(tracks):\n",
    "    sessions = []\n",
    "    session_tracks = 0\n",
    "    session_time = 0\n",
    "    for track in tracks:\n",
    "        session_tracks += 1\n",
    "        session_time += track[\"time\"]\n",
    "        if track[\"message\"] == \"last\":\n",
    "            sessions.append(Session(timestamp=track[\"timestamp\"], tracks=session_tracks, time=session_time))\n",
    "            session_tracks = 0\n",
    "            session_time = 0\n",
    "    return sessions\n",
    "            \n",
    "sessionize_udf = spf.udf(sessionize, schema)\n",
    "\n",
    "sessions = (\n",
    "  data\n",
    "    .groupBy(\n",
    "        spf.col(\"user\"), \n",
    "        spf.col(\"experiments.\" + experiment).alias(\"treatment\")\n",
    "    )\n",
    "    .agg(\n",
    "        spf.sort_array(spf.collect_list(spf.struct(\n",
    "            spf.col(\"timestamp\"),\n",
    "            spf.col(\"message\"),\n",
    "            spf.col(\"time\"),\n",
    "        )).alias(\"track\")).alias(\"tracks\")\n",
    "    )\n",
    "    .select(\n",
    "        spf.col(\"treatment\"),\n",
    "        spf.explode(sessionize_udf(spf.col(\"tracks\"))).alias(\"session\"),\n",
    "    )\n",
    "    .select(\n",
    "        spf.col(\"treatment\"),\n",
    "        spf.col(\"session.*\"),\n",
    "    )\n",
    "    .toPandas()\n",
    "    .set_index(\"timestamp\")\n",
    "    .sort_index()\n",
    ")"
   ],
   "metadata": {
    "collapsed": false,
    "pycharm": {
     "name": "#%%\n"
    }
   }
  },
  {
   "cell_type": "code",
   "execution_count": null,
   "outputs": [],
   "source": [
    "figure, ax = plt.subplots(figsize=(15, 5))\n",
    "for treatment, treatment_sessions in sessions.groupby(\"treatment\"):\n",
    "    ax.plot(treatment_sessions.index, treatment_sessions[\"tracks\"], label=treatment)"
   ],
   "metadata": {
    "collapsed": false,
    "pycharm": {
     "name": "#%%\n"
    }
   }
  },
  {
   "cell_type": "code",
   "execution_count": null,
   "outputs": [],
   "source": [
    "figure, ax = plt.subplots(figsize=(15, 5))\n",
    "for treatment, treatment_sessions in sessions.groupby(\"treatment\"):\n",
    "    ax.plot(treatment_sessions.index, treatment_sessions[\"time\"], label=treatment)"
   ],
   "metadata": {
    "collapsed": false,
    "pycharm": {
     "name": "#%%\n"
    }
   }
  },
  {
   "cell_type": "markdown",
   "source": [
    "## Analyze experiment"
   ],
   "metadata": {
    "collapsed": false,
    "pycharm": {
     "name": "#%% md\n"
    }
   }
  },
  {
   "cell_type": "code",
   "execution_count": null,
   "outputs": [],
   "source": [
    "experiment = \"MY_VS_CONTEXTUAL\"\n",
    "\n",
    "user_level_data = (\n",
    "  data\n",
    "    .groupBy(\n",
    "        spf.col(\"user\"), \n",
    "        spf.col(\"experiments.\" + experiment).alias(\"treatment\")\n",
    "    )\n",
    "    .agg(\n",
    "        spf.count(spf.when(spf.col(\"message\") == \"last\", spf.col(\"user\"))).alias(\"sessions\"),\n",
    "        (spf.count(\"user\") / spf.count(spf.when(spf.col(\"message\") == \"last\", spf.col(\"user\")))).alias(\"mean_session_length\"),\n",
    "        (spf.sum(\"time\") / spf.count(spf.when(spf.col(\"message\") == \"last\", spf.col(\"user\")))).alias(\"mean_session_time\"),\n",
    "        (spf.sum(\"latency\") / spf.count(\"user\")).alias(\"mean_request_time\")\n",
    "    )\n",
    ")\n",
    "\n",
    "metrics = [column for column in user_level_data.columns if column not in (\"user\", \"treatment\")]\n",
    "\n",
    "metric_stats = []\n",
    "for metric in metrics:\n",
    "    metric_stats.extend(\n",
    "        [\n",
    "            spf.avg(metric).alias(\"mean_\" + metric),\n",
    "            spf.variance(metric).alias(\"var_\" + metric),\n",
    "            spf.count(metric).alias(\"n_\" + metric)\n",
    "        ]\n",
    "    )\n",
    "    \n",
    "treatment_level_data = (\n",
    "    user_level_data\n",
    "      .groupBy(spf.col(\"treatment\"))\n",
    "      .agg(*metric_stats)\n",
    "      .collect()\n",
    ")"
   ],
   "metadata": {
    "collapsed": false,
    "pycharm": {
     "name": "#%%\n"
    }
   }
  },
  {
   "cell_type": "code",
   "execution_count": null,
   "metadata": {
    "pycharm": {
     "name": "#%%\n"
    },
    "scrolled": false
   },
   "outputs": [],
   "source": [
    "def color(value):\n",
    "    return 'color:red;' if value < 0 else 'color:green;'\n",
    "\n",
    "def background(value):\n",
    "    return 'color:white;background-color:green' if value else 'color:white;background-color:red'\n",
    "        \n",
    "\n",
    "(\n",
    "    pd.DataFrame(effects)[[\n",
    "        \"treatment\", \n",
    "        \"metric\",\n",
    "        \"effect\", \n",
    "        \"upper\", \n",
    "        \"lower\", \n",
    "        \"control_mean\", \n",
    "        \"treatment_mean\",\n",
    "        \"significant\"\n",
    "    ]]\n",
    "    .sort_values(\"effect\", ascending=False)\n",
    "    .style\n",
    "    .applymap(color, subset=[\"effect\", \"upper\", \"lower\"])\n",
    "    .applymap(background, subset=[\"significant\"])\n",
    ")"
   ]
  }
 ],
 "metadata": {
  "kernelspec": {
   "display_name": "Python 3 (ipykernel)",
   "language": "python",
   "name": "python3"
  },
  "language_info": {
   "codemirror_mode": {
    "name": "ipython",
    "version": 3
   },
   "file_extension": ".py",
   "mimetype": "text/x-python",
   "name": "python",
   "nbconvert_exporter": "python",
   "pygments_lexer": "ipython3",
   "version": "3.9.12"
  }
 },
 "nbformat": 4,
 "nbformat_minor": 2
}