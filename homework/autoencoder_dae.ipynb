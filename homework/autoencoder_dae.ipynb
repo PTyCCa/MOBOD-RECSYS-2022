{
 "cells": [
  {
   "cell_type": "code",
   "execution_count": 1,
   "metadata": {
    "id": "7r4neLK0BUFe",
    "pycharm": {
     "name": "#%%\n"
    }
   },
   "outputs": [],
   "source": [
    "import os\n",
    "import json\n",
    "from typing import List\n",
    "import pandas as pd\n",
    "import numpy as np\n",
    "import torch\n",
    "from torch import nn, optim\n",
    "from torch.nn import functional as F\n",
    "from torch.nn.init import xavier_normal_, constant_\n",
    "from torch.utils.data import DataLoader, Dataset\n",
    "from catalyst import dl, metrics\n",
    "from catalyst.utils import set_global_seed"
   ]
  },
  {
   "cell_type": "code",
   "execution_count": 2,
   "metadata": {
    "id": "My4a8myacKbB",
    "pycharm": {
     "name": "#%%\n"
    }
   },
   "outputs": [],
   "source": [
    "class InteractionsDataset(Dataset):\n",
    "    def __init__(self, interactions_pickle_path: str):\n",
    "        data = pd.read_pickle(interactions_pickle_path)\n",
    "        users = data['user'].to_numpy()\n",
    "        tracks = data['track'].to_numpy()\n",
    "\n",
    "        i = torch.from_numpy(np.stack((users, tracks)).astype(\"int64\"))\n",
    "        v = torch.ones(data.shape[0])\n",
    "\n",
    "        self.interactions = torch.sparse.FloatTensor(i, v)\n",
    "\n",
    "    def __len__(self):\n",
    "        return len(self.interactions)\n",
    "\n",
    "    def __getitem__(self, idx):\n",
    "        return self.interactions[idx].to_dense()"
   ]
  },
  {
   "cell_type": "code",
   "execution_count": 3,
   "metadata": {
    "id": "RPigGdNzcKBv",
    "pycharm": {
     "name": "#%%\n"
    }
   },
   "outputs": [],
   "source": [
    "def collate_fn(batch: List[torch.Tensor]) -> torch.Tensor:\n",
    "    return {\"inputs\": torch.stack(batch), \"targets\": torch.stack(batch)}"
   ]
  },
  {
   "cell_type": "code",
   "execution_count": 4,
   "metadata": {
    "id": "-wDeI5875P4J",
    "pycharm": {
     "name": "#%%\n"
    }
   },
   "outputs": [],
   "source": [
    "class MultiDAE(nn.Module):\n",
    "    def __init__(self, p_dims, q_dims=None, dropout=0.5):\n",
    "        super().__init__()\n",
    "        self.p_dims = p_dims\n",
    "        if q_dims:\n",
    "            assert q_dims[0] == p_dims[-1], \"In and Out dimensions must equal to each other\"\n",
    "            assert q_dims[-1] == p_dims[0], \"Latent dimension for p- and q- network mismatches.\"\n",
    "            self.q_dims = q_dims\n",
    "        else:\n",
    "            self.q_dims = p_dims[::-1]\n",
    "\n",
    "        self.dims = self.q_dims + self.p_dims[1:]\n",
    "        self.layers = nn.ModuleList([nn.Linear(d_in, d_out) for\n",
    "            d_in, d_out in zip(self.dims[:-1], self.dims[1:])])\n",
    "        self.drop = nn.Dropout(dropout)\n",
    "        \n",
    "        self.init_weights()\n",
    "    \n",
    "    def forward(self, input):\n",
    "        h = F.normalize(input)\n",
    "        h = self.drop(h)\n",
    "\n",
    "        for i, layer in enumerate(self.layers):\n",
    "            h = layer(h)\n",
    "            if i != len(self.layers) - 1:\n",
    "                h = torch.tanh(h)\n",
    "        return h\n",
    "\n",
    "    def init_weights(self):\n",
    "        for layer in self.layers:\n",
    "            xavier_normal_(layer.weight.data)\n",
    "            constant_(layer.bias.data, 0)"
   ]
  },
  {
   "cell_type": "code",
   "execution_count": 5,
   "metadata": {
    "id": "x3Ag2cDxKRTC",
    "pycharm": {
     "name": "#%%\n"
    }
   },
   "outputs": [],
   "source": [
    "set_global_seed(42)"
   ]
  },
  {
   "cell_type": "code",
   "execution_count": 6,
   "metadata": {
    "id": "mXh55hoOJ__R",
    "pycharm": {
     "name": "#%%\n"
    }
   },
   "outputs": [],
   "source": [
    "# For top_k tracks recommendation\n",
    "top_k = 50"
   ]
  },
  {
   "cell_type": "code",
   "execution_count": 7,
   "metadata": {
    "id": "NlFsz94RJbim",
    "pycharm": {
     "name": "#%%\n"
    }
   },
   "outputs": [],
   "source": [
    "train_dataset = InteractionsDataset(\"train_data.pkl\")\n",
    "loaders = {\n",
    "    \"train\": DataLoader(train_dataset, batch_size=64, collate_fn=collate_fn),\n",
    "}"
   ]
  },
  {
   "cell_type": "code",
   "execution_count": 8,
   "metadata": {
    "id": "Zo8Icg4FLxmq",
    "pycharm": {
     "name": "#%%\n"
    }
   },
   "outputs": [],
   "source": [
    "item_num = len(train_dataset[0])\n",
    "model = MultiDAE([50, 300, item_num], dropout=0.5)\n",
    "criterion = nn.CrossEntropyLoss()\n",
    "optimizer = optim.Adam(model.parameters(), lr=0.001)\n",
    "engine = dl.DeviceEngine()"
   ]
  },
  {
   "cell_type": "code",
   "execution_count": 9,
   "metadata": {
    "id": "G6RIeoGYZbN6",
    "pycharm": {
     "name": "#%%\n"
    }
   },
   "outputs": [],
   "source": [
    "callbacks = [\n",
    "    dl.NDCGCallback(\"logits\", \"targets\", [top_k]),\n",
    "    dl.MAPCallback(\"logits\", \"targets\", [top_k]),\n",
    "    dl.MRRCallback(\"logits\", \"targets\", [top_k]),\n",
    "    dl.HitrateCallback(\"logits\", \"targets\", [top_k]),\n",
    "    dl.OptimizerCallback(\"loss\", accumulation_steps=1),\n",
    "]"
   ]
  },
  {
   "cell_type": "code",
   "execution_count": 10,
   "metadata": {
    "id": "KNnV7ErYHYDn",
    "pycharm": {
     "name": "#%%\n"
    }
   },
   "outputs": [],
   "source": [
    "runner = dl.SupervisedRunner(\n",
    "    input_key=\"inputs\", output_key=\"logits\", target_key=\"targets\", loss_key=\"loss\"\n",
    ")"
   ]
  },
  {
   "cell_type": "code",
   "execution_count": 11,
   "metadata": {
    "colab": {
     "base_uri": "https://localhost:8080/",
     "height": 731,
     "referenced_widgets": [
      "faa82fdcf359416fa190edf060f606a5",
      "e0988efbd6ef459e8a5ce7dced660a0b",
      "09be706b2a7a4fd5a70e762769a3f972",
      "7f732ce252624ed297bf890771e90f9e",
      "547aaa2c549847d18c00399262ba3bdd",
      "708a2380d1dc47fc921dc866e75c0c1c",
      "c6066c5f72ca4b8f84723af516f11a82",
      "78b13fdcdbda4d88afb926cec50e11f4",
      "d772bb2b39da4b968971e40de4009f88",
      "3329c8db6f3b4f14859d156cab590671",
      "81fe6e75a2c84a7ca019be5a74f2a7ba",
      "a605634796f645d9b74d240af5dfc598",
      "e640e63fc1874b43bb53987778cb1ade",
      "d2d345aa4eab46228aaf7da1633b2dcb",
      "0e3d782eab984cd08ae4f8782e17241f",
      "96645f31631a4b82a193d9b5d080d2c2",
      "5a3df6bbf5a84b34b88078e2338dad08",
      "1c24fcbbda48404db3c866432201bf8f",
      "9dcf31803e774340b7cf3160261200b2",
      "21f61e969cda443cadc8d6b78274d53a",
      "4829b59f582f4cc19491411750608312",
      "55d28e18624b443d8def766be7bdd9d9",
      "649c4a779da14882837fa1e08aa18d3c",
      "05f483596d0041ef8778c944cc1c3c81",
      "cbc830e0477b4eb5821d60ad3526ab41",
      "f17ff04e6c1747fa85d947d7ef244e8d",
      "01cb70a7a2534199b953aeb35cf15020",
      "360cd4dec2f1434699f3353ecefc875b",
      "cc4803d5a5fb4bea87184f196c0a1025",
      "7c23b74cb0de44838c62347f7d0740c2",
      "29f28b2e4e614e228c1089888e9d17fc",
      "2d6e77ad3661444eba59512e5564677c",
      "151e23292ee94c1485133543f9fbaef5",
      "737255bdb8854156991286fedc618f2f",
      "559e2479d2b449b18db9cc913dfb95d6",
      "2f0a96a593e54922ac0bfc67ea42420f",
      "5492956899eb44d293b3703c8c561277",
      "fe05d0bcbb8d405b94aa28eafda8a0cc",
      "2e304cfe634d484b9fd68dab58604b81",
      "04d540d6b8f24fc0b5486998d40a4182",
      "3ee6231a08fb43f2867e724051a110de",
      "b603ae065bb64c8f8d85379764b8db22",
      "15ba47eccee64bc5834d86b206b11242",
      "026306a287f349159f804aa450a78428",
      "3ec8b3a6c3c0482482b80898abf7f2d3",
      "645dc6ea3886445e8807d0e66f7fd7ac",
      "f7ef7e1b784f48db9e2a8b9fba9fa345",
      "3dface7c5a414c42a32a634d0ee019e1",
      "4d012947c4ef4ebd918328401f06e3ab",
      "50faf10de5a54573904e97a52e420fbd",
      "a4a2215f9c2b4dec84022666da5a1fe9",
      "7c5d11f280dc4018a168d0c9fa499749",
      "6eb236b8af56427195b3a44ea81eeb7a",
      "397a4634c30e4cb8ac249d24d97e9f9c",
      "d4ded52d125e45af9a427f26f89fe53a",
      "ce79600a7b7c41378087691cbccf6cf1",
      "5826e7aca21c4f6689fc8f92a57f8ff0",
      "458e353b33ff44189ce57a216a8c5078",
      "0cf783bb111148b1bbf6098e27b460b6",
      "a5162cb96f014d77910b1df9d29c4015",
      "df953385466c46c09444eb77d307b649",
      "1352fa14e422414ba00c9e03829d9c0d",
      "06b1dd66aa1445888a86495bad3918d2",
      "09a2f447c1d9446db913cc53a8ee9d05",
      "1b275860d5ec4ebcaed3731205496d5e",
      "178494c826e04588b8d0b54ec92261bb",
      "449b8d6017fd4eafb63e0b0a943f8ebf",
      "a0af27d401ff49e581725fe2bc8ffa4a",
      "8f3691baf3bc41f2b32bc45313c6b884",
      "0906830d21174629babdfcb6110ed058",
      "76d115156e834dde806c61d7284e22a2",
      "a93159c8ce8e4b27a234137e99ce3bef",
      "d48eed781aec492aac6b9e392b6f1dd1",
      "50c19ad91ede4869979771d88a27fa31",
      "d0f4e5602af645bdb9ee726f793c2583",
      "95cb00de994647d29359942551a83a5a",
      "68b82885ef5846acb80042e1d762d1c4",
      "8aaf88fc426d4e8c85f5309930342a2f",
      "0f26dd358b8b4b728e7ffc61e6a99cc0",
      "34f5962194a04b0aa4ee1573c4c74225",
      "6a99bb50467145118b4ea20390a74586",
      "a9de5bdecba74a1892aa00c12fe815c3",
      "2fec5ec499a4483597ed7ee3cb7c3f4d",
      "b32f659f7ac64f6fa08e54bdd9dac05f",
      "15cd8f7fb03f43a4ba3c96f07a57d906",
      "93988138102144879f3553b318e589c6",
      "18c428d24f9643db99368a01733dd70a",
      "5d3ce4c1b5734084bb5d95f89915a780",
      "32f58999baf84a69b2b94a1a12fbdacb",
      "d07280ef593f4384bc3fe5762b7d09a3",
      "c42021ef80aa415a9addbc68895ee6d1",
      "94a0eb4828e944be857b099c43c15790",
      "1d8c853324954d14a4bca9aa11c5dfaf",
      "3613bf01863b4fe5805d8944d56ff4eb",
      "91d47d107832406b9ce5857197baaf43",
      "9c09963e626845d7abfc3a6c65a92ec1",
      "3016df9ac0ee4eae9b27fe1a8e86f72a",
      "72e243658e6b44938bdcb467b485f88d",
      "0b9f574a2dec4adea7ef4d0219789ef2",
      "20cf14820a42412781ac3ab23adb9f15",
      "9434f89f37b94ca5afa6ca11a8e552d9",
      "b0885babe7194b57a2f6253c875f3e86",
      "ab864db436704898ab860a07f4a22a91",
      "8cf7ce8a0ba24fa68396495ba5f7130b",
      "c010017c61624960aa7d1e1960e80f8a",
      "c0f69d949fbb41dabf6da37b55532213",
      "bd52a31ffdd147a69ddf2dbe8fbf853a",
      "b23118e39486408d90ed003f0fcfc1c4",
      "a913927360f348a79e29fbefc9ef6632",
      "96ef22acf4fe4d0c91fe51801765f859"
     ]
    },
    "id": "m7HmD3YIug-7",
    "outputId": "b20745a8-0576-4f67-c6a5-5bf323c2c5bb",
    "pycharm": {
     "name": "#%%\n"
    }
   },
   "outputs": [
    {
     "data": {
      "application/vnd.jupyter.widget-view+json": {
       "model_id": "c782aa1daad34934b1a0b78091ca5311",
       "version_major": 2,
       "version_minor": 0
      },
      "text/plain": [
       "1/30 * Epoch (train):   0%|          | 0/157 [00:00<?, ?it/s]"
      ]
     },
     "metadata": {},
     "output_type": "display_data"
    },
    {
     "name": "stdout",
     "output_type": "stream",
     "text": [
      "train (1/30) hitrate50: 0.027579400061257187 | hitrate50/std: 0.0077996005370578134 | loss: 1140.9674562500006 | loss/mean: 1140.9674562500006 | loss/std: 125.08365167589554 | lr: 0.001 | map50: 0.08966458641737701 | map50/std: 0.022428504986206237 | momentum: 0.9 | mrr50: 0.11615213832110169 | mrr50/std: 0.03335677848999456 | ndcg50: 0.043895978221297254 | ndcg50/std: 0.01140951853831152\n",
      "* Epoch (1/30) \n"
     ]
    },
    {
     "data": {
      "application/vnd.jupyter.widget-view+json": {
       "model_id": "95a0df73fa6f4d3ba5626f9bae9ac642",
       "version_major": 2,
       "version_minor": 0
      },
      "text/plain": [
       "2/30 * Epoch (train):   0%|          | 0/157 [00:00<?, ?it/s]"
      ]
     },
     "metadata": {},
     "output_type": "display_data"
    },
    {
     "name": "stdout",
     "output_type": "stream",
     "text": [
      "train (2/30) hitrate50: 0.04689595823287962 | hitrate50/std: 0.015617750745945156 | loss: 1125.787861914063 | loss/mean: 1125.787861914063 | loss/std: 124.57489858696772 | lr: 0.001 | map50: 0.17120562121868133 | map50/std: 0.06382950139676609 | momentum: 0.9 | mrr50: 0.21209121668338773 | mrr50/std: 0.0820304246028037 | ndcg50: 0.08148553736209867 | ndcg50/std: 0.02866333384268424\n",
      "* Epoch (2/30) \n"
     ]
    },
    {
     "data": {
      "application/vnd.jupyter.widget-view+json": {
       "model_id": "ef7411f446d841ffbc5a5239f477ae1f",
       "version_major": 2,
       "version_minor": 0
      },
      "text/plain": [
       "3/30 * Epoch (train):   0%|          | 0/157 [00:00<?, ?it/s]"
      ]
     },
     "metadata": {},
     "output_type": "display_data"
    },
    {
     "name": "stdout",
     "output_type": "stream",
     "text": [
      "train (3/30) hitrate50: 0.10105427539348602 | hitrate50/std: 0.01891093647845262 | loss: 1097.7523689453137 | loss/mean: 1097.7523689453137 | loss/std: 124.19372571390527 | lr: 0.001 | map50: 0.38443026752471915 | map50/std: 0.06624853613393249 | momentum: 0.9 | mrr50: 0.47961425848007194 | mrr50/std: 0.08602470812366386 | ndcg50: 0.1869787357330322 | ndcg50/std: 0.032896785407919155\n",
      "* Epoch (3/30) \n"
     ]
    },
    {
     "data": {
      "application/vnd.jupyter.widget-view+json": {
       "model_id": "c2c7b4e73b124d54a5e4033533c613ca",
       "version_major": 2,
       "version_minor": 0
      },
      "text/plain": [
       "4/30 * Epoch (train):   0%|          | 0/157 [00:00<?, ?it/s]"
      ]
     },
     "metadata": {},
     "output_type": "display_data"
    },
    {
     "name": "stdout",
     "output_type": "stream",
     "text": [
      "train (4/30) hitrate50: 0.14065722823143006 | hitrate50/std: 0.016618148325030505 | loss: 1071.5928976562498 | loss/mean: 1071.5928976562498 | loss/std: 123.07782549386839 | lr: 0.001 | map50: 0.49875692796707166 | map50/std: 0.046242423666443704 | momentum: 0.9 | mrr50: 0.6286040649414061 | mrr50/std: 0.0624173880717181 | ndcg50: 0.25711763072013855 | ndcg50/std: 0.024629608172544778\n",
      "* Epoch (4/30) \n"
     ]
    },
    {
     "data": {
      "application/vnd.jupyter.widget-view+json": {
       "model_id": "39a7889054184480a71541885abc7915",
       "version_major": 2,
       "version_minor": 0
      },
      "text/plain": [
       "5/30 * Epoch (train):   0%|          | 0/157 [00:00<?, ?it/s]"
      ]
     },
     "metadata": {},
     "output_type": "display_data"
    },
    {
     "name": "stdout",
     "output_type": "stream",
     "text": [
      "train (5/30) hitrate50: 0.16741901040077214 | hitrate50/std: 0.01728842220099352 | loss: 1050.35723984375 | loss/mean: 1050.35723984375 | loss/std: 121.74462429258628 | lr: 0.001 | map50: 0.5578113931655881 | map50/std: 0.03742185765367028 | momentum: 0.9 | mrr50: 0.7183637093544006 | mrr50/std: 0.050069634551212494 | ndcg50: 0.3038013055801393 | ndcg50/std: 0.02244285597814498\n",
      "* Epoch (5/30) \n"
     ]
    },
    {
     "data": {
      "application/vnd.jupyter.widget-view+json": {
       "model_id": "cc7cce966e8b4d739342ed0c285bf5cc",
       "version_major": 2,
       "version_minor": 0
      },
      "text/plain": [
       "6/30 * Epoch (train):   0%|          | 0/157 [00:00<?, ?it/s]"
      ]
     },
     "metadata": {},
     "output_type": "display_data"
    },
    {
     "name": "stdout",
     "output_type": "stream",
     "text": [
      "train (6/30) hitrate50: 0.1859690439224243 | hitrate50/std: 0.018153580616857703 | loss: 1034.5259433593753 | loss/mean: 1034.5259433593753 | loss/std: 120.58229479603747 | lr: 0.001 | map50: 0.5856543742179868 | map50/std: 0.035868780742686415 | momentum: 0.9 | mrr50: 0.7579338784217832 | mrr50/std: 0.04875445052372338 | ndcg50: 0.3328938482284547 | ndcg50/std: 0.024036170236068487\n",
      "* Epoch (6/30) \n"
     ]
    },
    {
     "data": {
      "application/vnd.jupyter.widget-view+json": {
       "model_id": "b10872942e40467f855acff357794ed3",
       "version_major": 2,
       "version_minor": 0
      },
      "text/plain": [
       "7/30 * Epoch (train):   0%|          | 0/157 [00:00<?, ?it/s]"
      ]
     },
     "metadata": {},
     "output_type": "display_data"
    },
    {
     "name": "stdout",
     "output_type": "stream",
     "text": [
      "train (7/30) hitrate50: 0.2020859476089478 | hitrate50/std: 0.019454376500731237 | loss: 1020.9335334960948 | loss/mean: 1020.9335334960948 | loss/std: 119.40780967929167 | lr: 0.001 | map50: 0.6141708169937135 | map50/std: 0.034132157875727015 | momentum: 0.9 | mrr50: 0.7973077083587644 | mrr50/std: 0.040821988110880114 | ndcg50: 0.36004363603591905 | ndcg50/std: 0.025441515842226706\n",
      "* Epoch (7/30) \n"
     ]
    },
    {
     "data": {
      "application/vnd.jupyter.widget-view+json": {
       "model_id": "722167b51b904b73a15a8fe2826935d4",
       "version_major": 2,
       "version_minor": 0
      },
      "text/plain": [
       "8/30 * Epoch (train):   0%|          | 0/157 [00:00<?, ?it/s]"
      ]
     },
     "metadata": {},
     "output_type": "display_data"
    },
    {
     "name": "stdout",
     "output_type": "stream",
     "text": [
      "train (8/30) hitrate50: 0.21768177604675293 | hitrate50/std: 0.020108093810423222 | loss: 1008.4102422851562 | loss/mean: 1008.4102422851562 | loss/std: 118.59621305827562 | lr: 0.001 | map50: 0.6380952081680298 | map50/std: 0.03667661362421913 | momentum: 0.9 | mrr50: 0.8294541931152343 | mrr50/std: 0.04624560318869547 | ndcg50: 0.385765837574005 | ndcg50/std: 0.027424623197935975\n",
      "* Epoch (8/30) \n"
     ]
    },
    {
     "data": {
      "application/vnd.jupyter.widget-view+json": {
       "model_id": "545721c4677d4040afa4ee9d3a4e47bd",
       "version_major": 2,
       "version_minor": 0
      },
      "text/plain": [
       "9/30 * Epoch (train):   0%|          | 0/157 [00:00<?, ?it/s]"
      ]
     },
     "metadata": {},
     "output_type": "display_data"
    },
    {
     "name": "stdout",
     "output_type": "stream",
     "text": [
      "train (9/30) hitrate50: 0.22971068987846374 | hitrate50/std: 0.02053498966020865 | loss: 997.4605077148437 | loss/mean: 997.4605077148437 | loss/std: 117.51809015167746 | lr: 0.001 | map50: 0.6506968492507935 | map50/std: 0.03191671011946718 | momentum: 0.9 | mrr50: 0.8489924322128295 | mrr50/std: 0.03732331433408414 | ndcg50: 0.40436135530471806 | ndcg50/std: 0.026059909851600574\n",
      "* Epoch (9/30) \n"
     ]
    },
    {
     "data": {
      "application/vnd.jupyter.widget-view+json": {
       "model_id": "94031775c6044977a6f9cbc0b9d806e8",
       "version_major": 2,
       "version_minor": 0
      },
      "text/plain": [
       "10/30 * Epoch (train):   0%|          | 0/157 [00:00<?, ?it/s]"
      ]
     },
     "metadata": {},
     "output_type": "display_data"
    },
    {
     "name": "stdout",
     "output_type": "stream",
     "text": [
      "train (10/30) hitrate50: 0.24089306592941284 | hitrate50/std: 0.02123885253507516 | loss: 987.3702176757809 | loss/mean: 987.3702176757809 | loss/std: 116.46950640992542 | lr: 0.001 | map50: 0.6645388034820559 | map50/std: 0.03275918132520939 | momentum: 0.9 | mrr50: 0.8653368152618408 | mrr50/std: 0.03791574265457443 | ndcg50: 0.4226255654335023 | ndcg50/std: 0.02777604229080632\n",
      "* Epoch (10/30) \n"
     ]
    },
    {
     "data": {
      "application/vnd.jupyter.widget-view+json": {
       "model_id": "4359bb1c0cc444db910f41d111a1b746",
       "version_major": 2,
       "version_minor": 0
      },
      "text/plain": [
       "11/30 * Epoch (train):   0%|          | 0/157 [00:00<?, ?it/s]"
      ]
     },
     "metadata": {},
     "output_type": "display_data"
    },
    {
     "name": "stdout",
     "output_type": "stream",
     "text": [
      "train (11/30) hitrate50: 0.2515826939582824 | hitrate50/std: 0.02225087913866842 | loss: 977.4666650390623 | loss/mean: 977.4666650390623 | loss/std: 115.52516718074737 | lr: 0.001 | map50: 0.6812776021957395 | map50/std: 0.02936964986506183 | momentum: 0.9 | mrr50: 0.8878063190460204 | mrr50/std: 0.03199165240937263 | ndcg50: 0.44209627876281743 | ndcg50/std: 0.027748565652244303\n",
      "* Epoch (11/30) \n"
     ]
    },
    {
     "data": {
      "application/vnd.jupyter.widget-view+json": {
       "model_id": "34920f11d0b040df8f3f70a41a3849be",
       "version_major": 2,
       "version_minor": 0
      },
      "text/plain": [
       "12/30 * Epoch (train):   0%|          | 0/157 [00:00<?, ?it/s]"
      ]
     },
     "metadata": {},
     "output_type": "display_data"
    },
    {
     "name": "stdout",
     "output_type": "stream",
     "text": [
      "train (12/30) hitrate50: 0.26289318704605114 | hitrate50/std: 0.023160051759583015 | loss: 967.3842251953123 | loss/mean: 967.3842251953123 | loss/std: 114.44015201664887 | lr: 0.001 | map50: 0.6949353547096258 | map50/std: 0.026956225305414593 | momentum: 0.9 | mrr50: 0.8997934616088864 | mrr50/std: 0.032024746350901176 | ndcg50: 0.4603751597404479 | ndcg50/std: 0.02763827101186871\n",
      "* Epoch (12/30) \n"
     ]
    },
    {
     "data": {
      "application/vnd.jupyter.widget-view+json": {
       "model_id": "284b8a1734a049cfbec065b8fdb4ce0b",
       "version_major": 2,
       "version_minor": 0
      },
      "text/plain": [
       "13/30 * Epoch (train):   0%|          | 0/157 [00:00<?, ?it/s]"
      ]
     },
     "metadata": {},
     "output_type": "display_data"
    },
    {
     "name": "stdout",
     "output_type": "stream",
     "text": [
      "train (13/30) hitrate50: 0.2713773118972779 | hitrate50/std: 0.023042110541975226 | loss: 957.5248873046876 | loss/mean: 957.5248873046876 | loss/std: 113.12431729772739 | lr: 0.001 | map50: 0.7049735127449035 | map50/std: 0.026169966284375058 | momentum: 0.9 | mrr50: 0.9138364463806155 | mrr50/std: 0.027476582995896802 | ndcg50: 0.47559217548370364 | ndcg50/std: 0.026998032465606475\n",
      "* Epoch (13/30) \n"
     ]
    },
    {
     "data": {
      "application/vnd.jupyter.widget-view+json": {
       "model_id": "7ea56cf17924428987f082c4c7d2ad07",
       "version_major": 2,
       "version_minor": 0
      },
      "text/plain": [
       "14/30 * Epoch (train):   0%|          | 0/157 [00:00<?, ?it/s]"
      ]
     },
     "metadata": {},
     "output_type": "display_data"
    },
    {
     "name": "stdout",
     "output_type": "stream",
     "text": [
      "train (14/30) hitrate50: 0.28054342393875126 | hitrate50/std: 0.023693213905045276 | loss: 947.7783306640623 | loss/mean: 947.7783306640623 | loss/std: 112.04106138490671 | lr: 0.001 | map50: 0.7165094941139223 | map50/std: 0.023742250614349338 | momentum: 0.9 | mrr50: 0.9208717090606688 | mrr50/std: 0.02428094740116108 | ndcg50: 0.49135931472778327 | ndcg50/std: 0.02684619224823687\n",
      "* Epoch (14/30) \n"
     ]
    },
    {
     "data": {
      "application/vnd.jupyter.widget-view+json": {
       "model_id": "50d72b9ae08e4bc19be93c299b1fc3cc",
       "version_major": 2,
       "version_minor": 0
      },
      "text/plain": [
       "15/30 * Epoch (train):   0%|          | 0/157 [00:00<?, ?it/s]"
      ]
     },
     "metadata": {},
     "output_type": "display_data"
    },
    {
     "name": "stdout",
     "output_type": "stream",
     "text": [
      "train (15/30) hitrate50: 0.29070295133590696 | hitrate50/std: 0.023776493596340736 | loss: 937.7025589843746 | loss/mean: 937.7025589843746 | loss/std: 110.70454957114497 | lr: 0.001 | map50: 0.7276797775268556 | map50/std: 0.023013820974452603 | momentum: 0.9 | mrr50: 0.9307418109893797 | mrr50/std: 0.02331005830695829 | ndcg50: 0.5091457164764407 | ndcg50/std: 0.025761811465964977\n",
      "* Epoch (15/30) \n"
     ]
    },
    {
     "data": {
      "application/vnd.jupyter.widget-view+json": {
       "model_id": "93a8da96043540dea8b3c0f306885e97",
       "version_major": 2,
       "version_minor": 0
      },
      "text/plain": [
       "16/30 * Epoch (train):   0%|          | 0/157 [00:00<?, ?it/s]"
      ]
     },
     "metadata": {},
     "output_type": "display_data"
    },
    {
     "name": "stdout",
     "output_type": "stream",
     "text": [
      "train (16/30) hitrate50: 0.2985096172332764 | hitrate50/std: 0.023669137850482688 | loss: 927.7874207031249 | loss/mean: 927.7874207031249 | loss/std: 109.52354364988803 | lr: 0.001 | map50: 0.7367875953674311 | map50/std: 0.022155162284200242 | momentum: 0.9 | mrr50: 0.9403590991973877 | mrr50/std: 0.022364848939908026 | ndcg50: 0.5239923107147223 | ndcg50/std: 0.025672510761799883\n",
      "* Epoch (16/30) \n"
     ]
    },
    {
     "data": {
      "application/vnd.jupyter.widget-view+json": {
       "model_id": "ed91a28124cc43f4a453e0e45c8c84b8",
       "version_major": 2,
       "version_minor": 0
      },
      "text/plain": [
       "17/30 * Epoch (train):   0%|          | 0/157 [00:00<?, ?it/s]"
      ]
     },
     "metadata": {},
     "output_type": "display_data"
    },
    {
     "name": "stdout",
     "output_type": "stream",
     "text": [
      "train (17/30) hitrate50: 0.30764557933807385 | hitrate50/std: 0.024294219801794702 | loss: 917.761469140625 | loss/mean: 917.761469140625 | loss/std: 108.44281017973306 | lr: 0.001 | map50: 0.745471927642822 | map50/std: 0.021125348320285668 | momentum: 0.9 | mrr50: 0.9460693946838377 | mrr50/std: 0.018670845380264308 | ndcg50: 0.539913481903076 | ndcg50/std: 0.024754215248959332\n",
      "* Epoch (17/30) \n"
     ]
    },
    {
     "data": {
      "application/vnd.jupyter.widget-view+json": {
       "model_id": "5872a56a569e48afa65123f28759fff0",
       "version_major": 2,
       "version_minor": 0
      },
      "text/plain": [
       "18/30 * Epoch (train):   0%|          | 0/157 [00:00<?, ?it/s]"
      ]
     },
     "metadata": {},
     "output_type": "display_data"
    },
    {
     "name": "stdout",
     "output_type": "stream",
     "text": [
      "train (18/30) hitrate50: 0.3160683740615844 | hitrate50/std: 0.024477292584604127 | loss: 907.82615234375 | loss/mean: 907.82615234375 | loss/std: 107.18425088039956 | lr: 0.001 | map50: 0.7579029228210453 | map50/std: 0.021400564315841347 | momentum: 0.9 | mrr50: 0.9536810688018797 | mrr50/std: 0.01858183590285894 | ndcg50: 0.5562382693290706 | ndcg50/std: 0.02513663911779796\n",
      "* Epoch (18/30) \n"
     ]
    },
    {
     "data": {
      "application/vnd.jupyter.widget-view+json": {
       "model_id": "2446a923bd104093bdfd70fe15013f79",
       "version_major": 2,
       "version_minor": 0
      },
      "text/plain": [
       "19/30 * Epoch (train):   0%|          | 0/157 [00:00<?, ?it/s]"
      ]
     },
     "metadata": {},
     "output_type": "display_data"
    },
    {
     "name": "stdout",
     "output_type": "stream",
     "text": [
      "train (19/30) hitrate50: 0.3242670154571535 | hitrate50/std: 0.024257285400174983 | loss: 897.8245234374998 | loss/mean: 897.8245234374998 | loss/std: 105.75493294504304 | lr: 0.001 | map50: 0.7701637845993043 | map50/std: 0.019632843056253357 | momentum: 0.9 | mrr50: 0.9602862400054931 | mrr50/std: 0.02094114090693359 | ndcg50: 0.5722418687820432 | ndcg50/std: 0.02465444598242214\n",
      "* Epoch (19/30) \n"
     ]
    },
    {
     "data": {
      "application/vnd.jupyter.widget-view+json": {
       "model_id": "8df77ac8e82d488090aa45b533379df7",
       "version_major": 2,
       "version_minor": 0
      },
      "text/plain": [
       "20/30 * Epoch (train):   0%|          | 0/157 [00:00<?, ?it/s]"
      ]
     },
     "metadata": {},
     "output_type": "display_data"
    },
    {
     "name": "stdout",
     "output_type": "stream",
     "text": [
      "train (20/30) hitrate50: 0.33246371974945066 | hitrate50/std: 0.02483076563809562 | loss: 888.183141015625 | loss/mean: 888.183141015625 | loss/std: 104.4861836392722 | lr: 0.001 | map50: 0.7791687430381775 | map50/std: 0.018823854803900888 | momentum: 0.9 | mrr50: 0.9654107410430909 | mrr50/std: 0.016276703085693386 | ndcg50: 0.5874211407661438 | ndcg50/std: 0.0241819850548008\n",
      "* Epoch (20/30) \n"
     ]
    },
    {
     "data": {
      "application/vnd.jupyter.widget-view+json": {
       "model_id": "2c609430292144bcb92c258368c5eea7",
       "version_major": 2,
       "version_minor": 0
      },
      "text/plain": [
       "21/30 * Epoch (train):   0%|          | 0/157 [00:00<?, ?it/s]"
      ]
     },
     "metadata": {},
     "output_type": "display_data"
    },
    {
     "name": "stdout",
     "output_type": "stream",
     "text": [
      "train (21/30) hitrate50: 0.34110703792572017 | hitrate50/std: 0.023927670041266686 | loss: 878.3637478515627 | loss/mean: 878.3637478515627 | loss/std: 103.05914032774112 | lr: 0.001 | map50: 0.7876048995018006 | map50/std: 0.01787285843593382 | momentum: 0.9 | mrr50: 0.9690209655761717 | mrr50/std: 0.016355816278160053 | ndcg50: 0.6026258697509762 | ndcg50/std: 0.023778684811726285\n",
      "* Epoch (21/30) \n"
     ]
    },
    {
     "data": {
      "application/vnd.jupyter.widget-view+json": {
       "model_id": "b1e633552bf045c591ec15be4cad2ac0",
       "version_major": 2,
       "version_minor": 0
      },
      "text/plain": [
       "22/30 * Epoch (train):   0%|          | 0/157 [00:00<?, ?it/s]"
      ]
     },
     "metadata": {},
     "output_type": "display_data"
    },
    {
     "name": "stdout",
     "output_type": "stream",
     "text": [
      "train (22/30) hitrate50: 0.349318071937561 | hitrate50/std: 0.023451064121703048 | loss: 869.2597296875 | loss/mean: 869.2597296875 | loss/std: 102.09547576585096 | lr: 0.001 | map50: 0.7977648229598999 | map50/std: 0.01667855060060493 | momentum: 0.9 | mrr50: 0.9727221855163571 | mrr50/std: 0.015796637518419785 | ndcg50: 0.617613687324524 | ndcg50/std: 0.02229068703322882\n",
      "* Epoch (22/30) \n"
     ]
    },
    {
     "data": {
      "application/vnd.jupyter.widget-view+json": {
       "model_id": "983600dbbd014461bdbb08364fdb7c57",
       "version_major": 2,
       "version_minor": 0
      },
      "text/plain": [
       "23/30 * Epoch (train):   0%|          | 0/157 [00:00<?, ?it/s]"
      ]
     },
     "metadata": {},
     "output_type": "display_data"
    },
    {
     "name": "stdout",
     "output_type": "stream",
     "text": [
      "train (23/30) hitrate50: 0.3566292240142823 | hitrate50/std: 0.023715631619520082 | loss: 860.2761212890625 | loss/mean: 860.2761212890625 | loss/std: 100.60893984141288 | lr: 0.001 | map50: 0.8043560026168823 | map50/std: 0.016955732853890803 | momentum: 0.9 | mrr50: 0.9753417747497561 | mrr50/std: 0.014252010628594668 | ndcg50: 0.6305136432647704 | ndcg50/std: 0.02341855531044883\n",
      "* Epoch (23/30) \n"
     ]
    },
    {
     "data": {
      "application/vnd.jupyter.widget-view+json": {
       "model_id": "54bbeba00f1944308e224bc945823f46",
       "version_major": 2,
       "version_minor": 0
      },
      "text/plain": [
       "24/30 * Epoch (train):   0%|          | 0/157 [00:00<?, ?it/s]"
      ]
     },
     "metadata": {},
     "output_type": "display_data"
    },
    {
     "name": "stdout",
     "output_type": "stream",
     "text": [
      "train (24/30) hitrate50: 0.3647362045288086 | hitrate50/std: 0.02417179778455743 | loss: 851.6922570312498 | loss/mean: 851.6922570312498 | loss/std: 99.58668554056075 | lr: 0.001 | map50: 0.8141245331764223 | map50/std: 0.015200538017747036 | momentum: 0.9 | mrr50: 0.9793611202239983 | mrr50/std: 0.013223368455269557 | ndcg50: 0.6448094667434692 | ndcg50/std: 0.02273844929746056\n",
      "* Epoch (24/30) \n"
     ]
    },
    {
     "data": {
      "application/vnd.jupyter.widget-view+json": {
       "model_id": "104ce459bef14e3cadd0f71787d817e9",
       "version_major": 2,
       "version_minor": 0
      },
      "text/plain": [
       "25/30 * Epoch (train):   0%|          | 0/157 [00:00<?, ?it/s]"
      ]
     },
     "metadata": {},
     "output_type": "display_data"
    },
    {
     "name": "stdout",
     "output_type": "stream",
     "text": [
      "train (25/30) hitrate50: 0.37250186061859125 | hitrate50/std: 0.024229846454085775 | loss: 843.0534153320311 | loss/mean: 843.0534153320311 | loss/std: 98.49302568442504 | lr: 0.001 | map50: 0.8225351511001587 | map50/std: 0.014951131770188662 | momentum: 0.9 | mrr50: 0.97998790473938 | mrr50/std: 0.01274657461924762 | ndcg50: 0.6582554190635681 | ndcg50/std: 0.02260275751898121\n",
      "* Epoch (25/30) \n"
     ]
    },
    {
     "data": {
      "application/vnd.jupyter.widget-view+json": {
       "model_id": "6a0a781364914494af3ae07918a4a60c",
       "version_major": 2,
       "version_minor": 0
      },
      "text/plain": [
       "26/30 * Epoch (train):   0%|          | 0/157 [00:00<?, ?it/s]"
      ]
     },
     "metadata": {},
     "output_type": "display_data"
    },
    {
     "name": "stdout",
     "output_type": "stream",
     "text": [
      "train (26/30) hitrate50: 0.37833051691055275 | hitrate50/std: 0.02366955243198295 | loss: 834.8419101562502 | loss/mean: 834.8419101562502 | loss/std: 97.24366222631173 | lr: 0.001 | map50: 0.8276551159858702 | map50/std: 0.014992872698029014 | momentum: 0.9 | mrr50: 0.9812153301239012 | mrr50/std: 0.012930309747876073 | ndcg50: 0.6686336460113521 | ndcg50/std: 0.02219126131651802\n",
      "* Epoch (26/30) \n"
     ]
    },
    {
     "data": {
      "application/vnd.jupyter.widget-view+json": {
       "model_id": "78561c4f95e541f2bddf934b22d8d9fe",
       "version_major": 2,
       "version_minor": 0
      },
      "text/plain": [
       "27/30 * Epoch (train):   0%|          | 0/157 [00:00<?, ?it/s]"
      ]
     },
     "metadata": {},
     "output_type": "display_data"
    },
    {
     "name": "stdout",
     "output_type": "stream",
     "text": [
      "train (27/30) hitrate50: 0.3842747652053836 | hitrate50/std: 0.023587258612798635 | loss: 827.1515617187496 | loss/mean: 827.1515617187496 | loss/std: 96.25849709390134 | lr: 0.001 | map50: 0.8361689429283141 | map50/std: 0.014854682681891038 | momentum: 0.9 | mrr50: 0.9829692928314203 | mrr50/std: 0.013554472156326419 | ndcg50: 0.6801507616043091 | ndcg50/std: 0.022313023721390816\n",
      "* Epoch (27/30) \n"
     ]
    },
    {
     "data": {
      "application/vnd.jupyter.widget-view+json": {
       "model_id": "596e60f9940d4d2c8ab66d8489f38100",
       "version_major": 2,
       "version_minor": 0
      },
      "text/plain": [
       "28/30 * Epoch (train):   0%|          | 0/157 [00:00<?, ?it/s]"
      ]
     },
     "metadata": {},
     "output_type": "display_data"
    },
    {
     "name": "stdout",
     "output_type": "stream",
     "text": [
      "train (28/30) hitrate50: 0.3918063077926633 | hitrate50/std: 0.02384109420571127 | loss: 819.5523734375001 | loss/mean: 819.5523734375001 | loss/std: 95.59280164467988 | lr: 0.001 | map50: 0.8424814487457277 | map50/std: 0.014963895949810067 | momentum: 0.9 | mrr50: 0.9852712375640865 | mrr50/std: 0.011753972723081381 | ndcg50: 0.6914725805282593 | ndcg50/std: 0.021015259986566774\n",
      "* Epoch (28/30) \n"
     ]
    },
    {
     "data": {
      "application/vnd.jupyter.widget-view+json": {
       "model_id": "1b7a7d15c54a4997bb1ee99fd09268ed",
       "version_major": 2,
       "version_minor": 0
      },
      "text/plain": [
       "29/30 * Epoch (train):   0%|          | 0/157 [00:00<?, ?it/s]"
      ]
     },
     "metadata": {},
     "output_type": "display_data"
    },
    {
     "name": "stdout",
     "output_type": "stream",
     "text": [
      "train (29/30) hitrate50: 0.3985554338455199 | hitrate50/std: 0.02365801707628632 | loss: 812.0135927734373 | loss/mean: 812.0135927734373 | loss/std: 94.4849641290902 | lr: 0.001 | map50: 0.8469265758514404 | map50/std: 0.013835580788707568 | momentum: 0.9 | mrr50: 0.9853995681762691 | mrr50/std: 0.012053625599193162 | ndcg50: 0.7015929243087765 | ndcg50/std: 0.02172707027723074\n",
      "* Epoch (29/30) \n"
     ]
    },
    {
     "data": {
      "application/vnd.jupyter.widget-view+json": {
       "model_id": "7ce4fb51a7084fb295ad8bfc94ec4843",
       "version_major": 2,
       "version_minor": 0
      },
      "text/plain": [
       "30/30 * Epoch (train):   0%|          | 0/157 [00:00<?, ?it/s]"
      ]
     },
     "metadata": {},
     "output_type": "display_data"
    },
    {
     "name": "stdout",
     "output_type": "stream",
     "text": [
      "train (30/30) hitrate50: 0.4046434797286987 | hitrate50/std: 0.02378385468192556 | loss: 804.8221525390619 | loss/mean: 804.8221525390619 | loss/std: 93.30984652992261 | lr: 0.001 | map50: 0.852378803730011 | map50/std: 0.013328375184972154 | momentum: 0.9 | mrr50: 0.986595006942749 | mrr50/std: 0.010674718362603947 | ndcg50: 0.7116232017517093 | ndcg50/std: 0.02157568697793173\n",
      "* Epoch (30/30) \n",
      "Top best models:\n",
      "logs\\checkpoints/train.30.pth\t30.0000\n"
     ]
    }
   ],
   "source": [
    "runner.train(\n",
    "  model=model,\n",
    "  optimizer=optimizer,\n",
    "  criterion=criterion,\n",
    "  engine=engine,\n",
    "  loaders=loaders, \n",
    "  num_epochs=30,\n",
    "  verbose=True,\n",
    "  timeit=False,\n",
    "  callbacks=callbacks,\n",
    "  logdir=\"./logs\",\n",
    ")"
   ]
  },
  {
   "cell_type": "code",
   "execution_count": 12,
   "metadata": {
    "colab": {
     "base_uri": "https://localhost:8080/"
    },
    "id": "043VBWRTHu9s",
    "outputId": "6df605fa-e6b6-4603-b108-e5fbe9942c32",
    "pycharm": {
     "name": "#%%\n"
    }
   },
   "outputs": [
    {
     "name": "stdout",
     "output_type": "stream",
     "text": [
      "CPU times: total: 5min 45s\n",
      "Wall time: 47.5 s\n"
     ]
    }
   ],
   "source": [
    "%%time\n",
    "with open(\"recommendations_30.json\", \"w\") as rf:    \n",
    "    for batch, prediction in enumerate(runner.predict_loader(loader=loaders[\"train\"])):\n",
    "        preds = prediction[\"logits\"].detach().cpu().numpy()\n",
    "        for i, pred in enumerate(preds):\n",
    "            user = loaders[\"train\"].batch_size * batch + i\n",
    "            pred_tracks = np.argsort(pred)[::-1][:top_k]\n",
    "            \n",
    "            recommendation = {\n",
    "                \"user\": user,\n",
    "                \"tracks\": pred_tracks.tolist(),\n",
    "            }\n",
    "            rf.write(json.dumps(recommendation) + \"\\n\")"
   ]
  }
 ],
 "metadata": {
  "accelerator": "GPU",
  "colab": {
   "collapsed_sections": [],
   "name": "homework_recsys.ipynb",
   "provenance": []
  },
  "kernelspec": {
   "display_name": "Python 3 (ipykernel)",
   "language": "python",
   "name": "python3"
  },
  "language_info": {
   "codemirror_mode": {
    "name": "ipython",
    "version": 3
   },
   "file_extension": ".py",
   "mimetype": "text/x-python",
   "name": "python",
   "nbconvert_exporter": "python",
   "pygments_lexer": "ipython3",
   "version": "3.9.12"
  },
  "widgets": {
   "application/vnd.jupyter.widget-state+json": {
    "01cb70a7a2534199b953aeb35cf15020": {
     "model_module": "@jupyter-widgets/controls",
     "model_module_version": "1.5.0",
     "model_name": "HTMLModel",
     "state": {
      "_dom_classes": [],
      "_model_module": "@jupyter-widgets/controls",
      "_model_module_version": "1.5.0",
      "_model_name": "HTMLModel",
      "_view_count": null,
      "_view_module": "@jupyter-widgets/controls",
      "_view_module_version": "1.5.0",
      "_view_name": "HTMLView",
      "description": "",
      "description_tooltip": null,
      "layout": "IPY_MODEL_151e23292ee94c1485133543f9fbaef5",
      "placeholder": "​",
      "style": "IPY_MODEL_2d6e77ad3661444eba59512e5564677c",
      "value": " 157/157 [01:03&lt;00:00,  3.07it/s, hitrate50=0.121, loss=1256.318, lr=1.000e-03, map50=0.350, momentum=0.900, mrr50=0.410, ndcg50=0.207]"
     }
    },
    "026306a287f349159f804aa450a78428": {
     "model_module": "@jupyter-widgets/base",
     "model_module_version": "1.2.0",
     "model_name": "LayoutModel",
     "state": {
      "_model_module": "@jupyter-widgets/base",
      "_model_module_version": "1.2.0",
      "_model_name": "LayoutModel",
      "_view_count": null,
      "_view_module": "@jupyter-widgets/base",
      "_view_module_version": "1.2.0",
      "_view_name": "LayoutView",
      "align_content": null,
      "align_items": null,
      "align_self": null,
      "border": null,
      "bottom": null,
      "display": null,
      "flex": null,
      "flex_flow": null,
      "grid_area": null,
      "grid_auto_columns": null,
      "grid_auto_flow": null,
      "grid_auto_rows": null,
      "grid_column": null,
      "grid_gap": null,
      "grid_row": null,
      "grid_template_areas": null,
      "grid_template_columns": null,
      "grid_template_rows": null,
      "height": null,
      "justify_content": null,
      "justify_items": null,
      "left": null,
      "margin": null,
      "max_height": null,
      "max_width": null,
      "min_height": null,
      "min_width": null,
      "object_fit": null,
      "object_position": null,
      "order": null,
      "overflow": null,
      "overflow_x": null,
      "overflow_y": null,
      "padding": null,
      "right": null,
      "top": null,
      "visibility": null,
      "width": null
     }
    },
    "04d540d6b8f24fc0b5486998d40a4182": {
     "model_module": "@jupyter-widgets/base",
     "model_module_version": "1.2.0",
     "model_name": "LayoutModel",
     "state": {
      "_model_module": "@jupyter-widgets/base",
      "_model_module_version": "1.2.0",
      "_model_name": "LayoutModel",
      "_view_count": null,
      "_view_module": "@jupyter-widgets/base",
      "_view_module_version": "1.2.0",
      "_view_name": "LayoutView",
      "align_content": null,
      "align_items": null,
      "align_self": null,
      "border": null,
      "bottom": null,
      "display": null,
      "flex": null,
      "flex_flow": null,
      "grid_area": null,
      "grid_auto_columns": null,
      "grid_auto_flow": null,
      "grid_auto_rows": null,
      "grid_column": null,
      "grid_gap": null,
      "grid_row": null,
      "grid_template_areas": null,
      "grid_template_columns": null,
      "grid_template_rows": null,
      "height": null,
      "justify_content": null,
      "justify_items": null,
      "left": null,
      "margin": null,
      "max_height": null,
      "max_width": null,
      "min_height": null,
      "min_width": null,
      "object_fit": null,
      "object_position": null,
      "order": null,
      "overflow": null,
      "overflow_x": null,
      "overflow_y": null,
      "padding": null,
      "right": null,
      "top": null,
      "visibility": null,
      "width": null
     }
    },
    "05f483596d0041ef8778c944cc1c3c81": {
     "model_module": "@jupyter-widgets/base",
     "model_module_version": "1.2.0",
     "model_name": "LayoutModel",
     "state": {
      "_model_module": "@jupyter-widgets/base",
      "_model_module_version": "1.2.0",
      "_model_name": "LayoutModel",
      "_view_count": null,
      "_view_module": "@jupyter-widgets/base",
      "_view_module_version": "1.2.0",
      "_view_name": "LayoutView",
      "align_content": null,
      "align_items": null,
      "align_self": null,
      "border": null,
      "bottom": null,
      "display": null,
      "flex": null,
      "flex_flow": null,
      "grid_area": null,
      "grid_auto_columns": null,
      "grid_auto_flow": null,
      "grid_auto_rows": null,
      "grid_column": null,
      "grid_gap": null,
      "grid_row": null,
      "grid_template_areas": null,
      "grid_template_columns": null,
      "grid_template_rows": null,
      "height": null,
      "justify_content": null,
      "justify_items": null,
      "left": null,
      "margin": null,
      "max_height": null,
      "max_width": null,
      "min_height": null,
      "min_width": null,
      "object_fit": null,
      "object_position": null,
      "order": null,
      "overflow": null,
      "overflow_x": null,
      "overflow_y": null,
      "padding": null,
      "right": null,
      "top": null,
      "visibility": null,
      "width": null
     }
    },
    "06b1dd66aa1445888a86495bad3918d2": {
     "model_module": "@jupyter-widgets/controls",
     "model_module_version": "1.5.0",
     "model_name": "ProgressStyleModel",
     "state": {
      "_model_module": "@jupyter-widgets/controls",
      "_model_module_version": "1.5.0",
      "_model_name": "ProgressStyleModel",
      "_view_count": null,
      "_view_module": "@jupyter-widgets/base",
      "_view_module_version": "1.2.0",
      "_view_name": "StyleView",
      "bar_color": null,
      "description_width": ""
     }
    },
    "0906830d21174629babdfcb6110ed058": {
     "model_module": "@jupyter-widgets/controls",
     "model_module_version": "1.5.0",
     "model_name": "FloatProgressModel",
     "state": {
      "_dom_classes": [],
      "_model_module": "@jupyter-widgets/controls",
      "_model_module_version": "1.5.0",
      "_model_name": "FloatProgressModel",
      "_view_count": null,
      "_view_module": "@jupyter-widgets/controls",
      "_view_module_version": "1.5.0",
      "_view_name": "ProgressView",
      "bar_style": "success",
      "description": "",
      "description_tooltip": null,
      "layout": "IPY_MODEL_d0f4e5602af645bdb9ee726f793c2583",
      "max": 157,
      "min": 0,
      "orientation": "horizontal",
      "style": "IPY_MODEL_50c19ad91ede4869979771d88a27fa31",
      "value": 157
     }
    },
    "09a2f447c1d9446db913cc53a8ee9d05": {
     "model_module": "@jupyter-widgets/base",
     "model_module_version": "1.2.0",
     "model_name": "LayoutModel",
     "state": {
      "_model_module": "@jupyter-widgets/base",
      "_model_module_version": "1.2.0",
      "_model_name": "LayoutModel",
      "_view_count": null,
      "_view_module": "@jupyter-widgets/base",
      "_view_module_version": "1.2.0",
      "_view_name": "LayoutView",
      "align_content": null,
      "align_items": null,
      "align_self": null,
      "border": null,
      "bottom": null,
      "display": null,
      "flex": null,
      "flex_flow": null,
      "grid_area": null,
      "grid_auto_columns": null,
      "grid_auto_flow": null,
      "grid_auto_rows": null,
      "grid_column": null,
      "grid_gap": null,
      "grid_row": null,
      "grid_template_areas": null,
      "grid_template_columns": null,
      "grid_template_rows": null,
      "height": null,
      "justify_content": null,
      "justify_items": null,
      "left": null,
      "margin": null,
      "max_height": null,
      "max_width": null,
      "min_height": null,
      "min_width": null,
      "object_fit": null,
      "object_position": null,
      "order": null,
      "overflow": null,
      "overflow_x": null,
      "overflow_y": null,
      "padding": null,
      "right": null,
      "top": null,
      "visibility": null,
      "width": null
     }
    },
    "09be706b2a7a4fd5a70e762769a3f972": {
     "model_module": "@jupyter-widgets/controls",
     "model_module_version": "1.5.0",
     "model_name": "HTMLModel",
     "state": {
      "_dom_classes": [],
      "_model_module": "@jupyter-widgets/controls",
      "_model_module_version": "1.5.0",
      "_model_name": "HTMLModel",
      "_view_count": null,
      "_view_module": "@jupyter-widgets/controls",
      "_view_module_version": "1.5.0",
      "_view_name": "HTMLView",
      "description": "",
      "description_tooltip": null,
      "layout": "IPY_MODEL_c6066c5f72ca4b8f84723af516f11a82",
      "placeholder": "​",
      "style": "IPY_MODEL_708a2380d1dc47fc921dc866e75c0c1c",
      "value": "1/10 * Epoch (train): 100%"
     }
    },
    "0b9f574a2dec4adea7ef4d0219789ef2": {
     "model_module": "@jupyter-widgets/base",
     "model_module_version": "1.2.0",
     "model_name": "LayoutModel",
     "state": {
      "_model_module": "@jupyter-widgets/base",
      "_model_module_version": "1.2.0",
      "_model_name": "LayoutModel",
      "_view_count": null,
      "_view_module": "@jupyter-widgets/base",
      "_view_module_version": "1.2.0",
      "_view_name": "LayoutView",
      "align_content": null,
      "align_items": null,
      "align_self": null,
      "border": null,
      "bottom": null,
      "display": null,
      "flex": null,
      "flex_flow": null,
      "grid_area": null,
      "grid_auto_columns": null,
      "grid_auto_flow": null,
      "grid_auto_rows": null,
      "grid_column": null,
      "grid_gap": null,
      "grid_row": null,
      "grid_template_areas": null,
      "grid_template_columns": null,
      "grid_template_rows": null,
      "height": null,
      "justify_content": null,
      "justify_items": null,
      "left": null,
      "margin": null,
      "max_height": null,
      "max_width": null,
      "min_height": null,
      "min_width": null,
      "object_fit": null,
      "object_position": null,
      "order": null,
      "overflow": null,
      "overflow_x": null,
      "overflow_y": null,
      "padding": null,
      "right": null,
      "top": null,
      "visibility": null,
      "width": null
     }
    },
    "0cf783bb111148b1bbf6098e27b460b6": {
     "model_module": "@jupyter-widgets/controls",
     "model_module_version": "1.5.0",
     "model_name": "FloatProgressModel",
     "state": {
      "_dom_classes": [],
      "_model_module": "@jupyter-widgets/controls",
      "_model_module_version": "1.5.0",
      "_model_name": "FloatProgressModel",
      "_view_count": null,
      "_view_module": "@jupyter-widgets/controls",
      "_view_module_version": "1.5.0",
      "_view_name": "ProgressView",
      "bar_style": "success",
      "description": "",
      "description_tooltip": null,
      "layout": "IPY_MODEL_09a2f447c1d9446db913cc53a8ee9d05",
      "max": 157,
      "min": 0,
      "orientation": "horizontal",
      "style": "IPY_MODEL_06b1dd66aa1445888a86495bad3918d2",
      "value": 157
     }
    },
    "0e3d782eab984cd08ae4f8782e17241f": {
     "model_module": "@jupyter-widgets/controls",
     "model_module_version": "1.5.0",
     "model_name": "FloatProgressModel",
     "state": {
      "_dom_classes": [],
      "_model_module": "@jupyter-widgets/controls",
      "_model_module_version": "1.5.0",
      "_model_name": "FloatProgressModel",
      "_view_count": null,
      "_view_module": "@jupyter-widgets/controls",
      "_view_module_version": "1.5.0",
      "_view_name": "ProgressView",
      "bar_style": "success",
      "description": "",
      "description_tooltip": null,
      "layout": "IPY_MODEL_21f61e969cda443cadc8d6b78274d53a",
      "max": 157,
      "min": 0,
      "orientation": "horizontal",
      "style": "IPY_MODEL_9dcf31803e774340b7cf3160261200b2",
      "value": 157
     }
    },
    "0f26dd358b8b4b728e7ffc61e6a99cc0": {
     "model_module": "@jupyter-widgets/base",
     "model_module_version": "1.2.0",
     "model_name": "LayoutModel",
     "state": {
      "_model_module": "@jupyter-widgets/base",
      "_model_module_version": "1.2.0",
      "_model_name": "LayoutModel",
      "_view_count": null,
      "_view_module": "@jupyter-widgets/base",
      "_view_module_version": "1.2.0",
      "_view_name": "LayoutView",
      "align_content": null,
      "align_items": null,
      "align_self": null,
      "border": null,
      "bottom": null,
      "display": null,
      "flex": null,
      "flex_flow": null,
      "grid_area": null,
      "grid_auto_columns": null,
      "grid_auto_flow": null,
      "grid_auto_rows": null,
      "grid_column": null,
      "grid_gap": null,
      "grid_row": null,
      "grid_template_areas": null,
      "grid_template_columns": null,
      "grid_template_rows": null,
      "height": null,
      "justify_content": null,
      "justify_items": null,
      "left": null,
      "margin": null,
      "max_height": null,
      "max_width": null,
      "min_height": null,
      "min_width": null,
      "object_fit": null,
      "object_position": null,
      "order": null,
      "overflow": null,
      "overflow_x": null,
      "overflow_y": null,
      "padding": null,
      "right": null,
      "top": null,
      "visibility": null,
      "width": null
     }
    },
    "1352fa14e422414ba00c9e03829d9c0d": {
     "model_module": "@jupyter-widgets/base",
     "model_module_version": "1.2.0",
     "model_name": "LayoutModel",
     "state": {
      "_model_module": "@jupyter-widgets/base",
      "_model_module_version": "1.2.0",
      "_model_name": "LayoutModel",
      "_view_count": null,
      "_view_module": "@jupyter-widgets/base",
      "_view_module_version": "1.2.0",
      "_view_name": "LayoutView",
      "align_content": null,
      "align_items": null,
      "align_self": null,
      "border": null,
      "bottom": null,
      "display": null,
      "flex": null,
      "flex_flow": null,
      "grid_area": null,
      "grid_auto_columns": null,
      "grid_auto_flow": null,
      "grid_auto_rows": null,
      "grid_column": null,
      "grid_gap": null,
      "grid_row": null,
      "grid_template_areas": null,
      "grid_template_columns": null,
      "grid_template_rows": null,
      "height": null,
      "justify_content": null,
      "justify_items": null,
      "left": null,
      "margin": null,
      "max_height": null,
      "max_width": null,
      "min_height": null,
      "min_width": null,
      "object_fit": null,
      "object_position": null,
      "order": null,
      "overflow": null,
      "overflow_x": null,
      "overflow_y": null,
      "padding": null,
      "right": null,
      "top": null,
      "visibility": null,
      "width": null
     }
    },
    "151e23292ee94c1485133543f9fbaef5": {
     "model_module": "@jupyter-widgets/base",
     "model_module_version": "1.2.0",
     "model_name": "LayoutModel",
     "state": {
      "_model_module": "@jupyter-widgets/base",
      "_model_module_version": "1.2.0",
      "_model_name": "LayoutModel",
      "_view_count": null,
      "_view_module": "@jupyter-widgets/base",
      "_view_module_version": "1.2.0",
      "_view_name": "LayoutView",
      "align_content": null,
      "align_items": null,
      "align_self": null,
      "border": null,
      "bottom": null,
      "display": null,
      "flex": null,
      "flex_flow": null,
      "grid_area": null,
      "grid_auto_columns": null,
      "grid_auto_flow": null,
      "grid_auto_rows": null,
      "grid_column": null,
      "grid_gap": null,
      "grid_row": null,
      "grid_template_areas": null,
      "grid_template_columns": null,
      "grid_template_rows": null,
      "height": null,
      "justify_content": null,
      "justify_items": null,
      "left": null,
      "margin": null,
      "max_height": null,
      "max_width": null,
      "min_height": null,
      "min_width": null,
      "object_fit": null,
      "object_position": null,
      "order": null,
      "overflow": null,
      "overflow_x": null,
      "overflow_y": null,
      "padding": null,
      "right": null,
      "top": null,
      "visibility": null,
      "width": null
     }
    },
    "15ba47eccee64bc5834d86b206b11242": {
     "model_module": "@jupyter-widgets/controls",
     "model_module_version": "1.5.0",
     "model_name": "DescriptionStyleModel",
     "state": {
      "_model_module": "@jupyter-widgets/controls",
      "_model_module_version": "1.5.0",
      "_model_name": "DescriptionStyleModel",
      "_view_count": null,
      "_view_module": "@jupyter-widgets/base",
      "_view_module_version": "1.2.0",
      "_view_name": "StyleView",
      "description_width": ""
     }
    },
    "15cd8f7fb03f43a4ba3c96f07a57d906": {
     "model_module": "@jupyter-widgets/controls",
     "model_module_version": "1.5.0",
     "model_name": "ProgressStyleModel",
     "state": {
      "_model_module": "@jupyter-widgets/controls",
      "_model_module_version": "1.5.0",
      "_model_name": "ProgressStyleModel",
      "_view_count": null,
      "_view_module": "@jupyter-widgets/base",
      "_view_module_version": "1.2.0",
      "_view_name": "StyleView",
      "bar_color": null,
      "description_width": ""
     }
    },
    "178494c826e04588b8d0b54ec92261bb": {
     "model_module": "@jupyter-widgets/base",
     "model_module_version": "1.2.0",
     "model_name": "LayoutModel",
     "state": {
      "_model_module": "@jupyter-widgets/base",
      "_model_module_version": "1.2.0",
      "_model_name": "LayoutModel",
      "_view_count": null,
      "_view_module": "@jupyter-widgets/base",
      "_view_module_version": "1.2.0",
      "_view_name": "LayoutView",
      "align_content": null,
      "align_items": null,
      "align_self": null,
      "border": null,
      "bottom": null,
      "display": null,
      "flex": null,
      "flex_flow": null,
      "grid_area": null,
      "grid_auto_columns": null,
      "grid_auto_flow": null,
      "grid_auto_rows": null,
      "grid_column": null,
      "grid_gap": null,
      "grid_row": null,
      "grid_template_areas": null,
      "grid_template_columns": null,
      "grid_template_rows": null,
      "height": null,
      "justify_content": null,
      "justify_items": null,
      "left": null,
      "margin": null,
      "max_height": null,
      "max_width": null,
      "min_height": null,
      "min_width": null,
      "object_fit": null,
      "object_position": null,
      "order": null,
      "overflow": null,
      "overflow_x": null,
      "overflow_y": null,
      "padding": null,
      "right": null,
      "top": null,
      "visibility": null,
      "width": null
     }
    },
    "18c428d24f9643db99368a01733dd70a": {
     "model_module": "@jupyter-widgets/controls",
     "model_module_version": "1.5.0",
     "model_name": "DescriptionStyleModel",
     "state": {
      "_model_module": "@jupyter-widgets/controls",
      "_model_module_version": "1.5.0",
      "_model_name": "DescriptionStyleModel",
      "_view_count": null,
      "_view_module": "@jupyter-widgets/base",
      "_view_module_version": "1.2.0",
      "_view_name": "StyleView",
      "description_width": ""
     }
    },
    "1b275860d5ec4ebcaed3731205496d5e": {
     "model_module": "@jupyter-widgets/controls",
     "model_module_version": "1.5.0",
     "model_name": "DescriptionStyleModel",
     "state": {
      "_model_module": "@jupyter-widgets/controls",
      "_model_module_version": "1.5.0",
      "_model_name": "DescriptionStyleModel",
      "_view_count": null,
      "_view_module": "@jupyter-widgets/base",
      "_view_module_version": "1.2.0",
      "_view_name": "StyleView",
      "description_width": ""
     }
    },
    "1c24fcbbda48404db3c866432201bf8f": {
     "model_module": "@jupyter-widgets/base",
     "model_module_version": "1.2.0",
     "model_name": "LayoutModel",
     "state": {
      "_model_module": "@jupyter-widgets/base",
      "_model_module_version": "1.2.0",
      "_model_name": "LayoutModel",
      "_view_count": null,
      "_view_module": "@jupyter-widgets/base",
      "_view_module_version": "1.2.0",
      "_view_name": "LayoutView",
      "align_content": null,
      "align_items": null,
      "align_self": null,
      "border": null,
      "bottom": null,
      "display": null,
      "flex": null,
      "flex_flow": null,
      "grid_area": null,
      "grid_auto_columns": null,
      "grid_auto_flow": null,
      "grid_auto_rows": null,
      "grid_column": null,
      "grid_gap": null,
      "grid_row": null,
      "grid_template_areas": null,
      "grid_template_columns": null,
      "grid_template_rows": null,
      "height": null,
      "justify_content": null,
      "justify_items": null,
      "left": null,
      "margin": null,
      "max_height": null,
      "max_width": null,
      "min_height": null,
      "min_width": null,
      "object_fit": null,
      "object_position": null,
      "order": null,
      "overflow": null,
      "overflow_x": null,
      "overflow_y": null,
      "padding": null,
      "right": null,
      "top": null,
      "visibility": null,
      "width": null
     }
    },
    "1d8c853324954d14a4bca9aa11c5dfaf": {
     "model_module": "@jupyter-widgets/controls",
     "model_module_version": "1.5.0",
     "model_name": "HTMLModel",
     "state": {
      "_dom_classes": [],
      "_model_module": "@jupyter-widgets/controls",
      "_model_module_version": "1.5.0",
      "_model_name": "HTMLModel",
      "_view_count": null,
      "_view_module": "@jupyter-widgets/controls",
      "_view_module_version": "1.5.0",
      "_view_name": "HTMLView",
      "description": "",
      "description_tooltip": null,
      "layout": "IPY_MODEL_0b9f574a2dec4adea7ef4d0219789ef2",
      "placeholder": "​",
      "style": "IPY_MODEL_72e243658e6b44938bdcb467b485f88d",
      "value": " 157/157 [01:00&lt;00:00,  3.22it/s, hitrate50=0.447, loss=859.275, lr=1.000e-03, map50=0.874, momentum=0.900, mrr50=0.938, ndcg50=0.812]"
     }
    },
    "20cf14820a42412781ac3ab23adb9f15": {
     "model_module": "@jupyter-widgets/controls",
     "model_module_version": "1.5.0",
     "model_name": "HBoxModel",
     "state": {
      "_dom_classes": [],
      "_model_module": "@jupyter-widgets/controls",
      "_model_module_version": "1.5.0",
      "_model_name": "HBoxModel",
      "_view_count": null,
      "_view_module": "@jupyter-widgets/controls",
      "_view_module_version": "1.5.0",
      "_view_name": "HBoxView",
      "box_style": "",
      "children": [
       "IPY_MODEL_b0885babe7194b57a2f6253c875f3e86",
       "IPY_MODEL_ab864db436704898ab860a07f4a22a91",
       "IPY_MODEL_8cf7ce8a0ba24fa68396495ba5f7130b"
      ],
      "layout": "IPY_MODEL_9434f89f37b94ca5afa6ca11a8e552d9"
     }
    },
    "21f61e969cda443cadc8d6b78274d53a": {
     "model_module": "@jupyter-widgets/base",
     "model_module_version": "1.2.0",
     "model_name": "LayoutModel",
     "state": {
      "_model_module": "@jupyter-widgets/base",
      "_model_module_version": "1.2.0",
      "_model_name": "LayoutModel",
      "_view_count": null,
      "_view_module": "@jupyter-widgets/base",
      "_view_module_version": "1.2.0",
      "_view_name": "LayoutView",
      "align_content": null,
      "align_items": null,
      "align_self": null,
      "border": null,
      "bottom": null,
      "display": null,
      "flex": null,
      "flex_flow": null,
      "grid_area": null,
      "grid_auto_columns": null,
      "grid_auto_flow": null,
      "grid_auto_rows": null,
      "grid_column": null,
      "grid_gap": null,
      "grid_row": null,
      "grid_template_areas": null,
      "grid_template_columns": null,
      "grid_template_rows": null,
      "height": null,
      "justify_content": null,
      "justify_items": null,
      "left": null,
      "margin": null,
      "max_height": null,
      "max_width": null,
      "min_height": null,
      "min_width": null,
      "object_fit": null,
      "object_position": null,
      "order": null,
      "overflow": null,
      "overflow_x": null,
      "overflow_y": null,
      "padding": null,
      "right": null,
      "top": null,
      "visibility": null,
      "width": null
     }
    },
    "29f28b2e4e614e228c1089888e9d17fc": {
     "model_module": "@jupyter-widgets/base",
     "model_module_version": "1.2.0",
     "model_name": "LayoutModel",
     "state": {
      "_model_module": "@jupyter-widgets/base",
      "_model_module_version": "1.2.0",
      "_model_name": "LayoutModel",
      "_view_count": null,
      "_view_module": "@jupyter-widgets/base",
      "_view_module_version": "1.2.0",
      "_view_name": "LayoutView",
      "align_content": null,
      "align_items": null,
      "align_self": null,
      "border": null,
      "bottom": null,
      "display": null,
      "flex": null,
      "flex_flow": null,
      "grid_area": null,
      "grid_auto_columns": null,
      "grid_auto_flow": null,
      "grid_auto_rows": null,
      "grid_column": null,
      "grid_gap": null,
      "grid_row": null,
      "grid_template_areas": null,
      "grid_template_columns": null,
      "grid_template_rows": null,
      "height": null,
      "justify_content": null,
      "justify_items": null,
      "left": null,
      "margin": null,
      "max_height": null,
      "max_width": null,
      "min_height": null,
      "min_width": null,
      "object_fit": null,
      "object_position": null,
      "order": null,
      "overflow": null,
      "overflow_x": null,
      "overflow_y": null,
      "padding": null,
      "right": null,
      "top": null,
      "visibility": null,
      "width": null
     }
    },
    "2d6e77ad3661444eba59512e5564677c": {
     "model_module": "@jupyter-widgets/controls",
     "model_module_version": "1.5.0",
     "model_name": "DescriptionStyleModel",
     "state": {
      "_model_module": "@jupyter-widgets/controls",
      "_model_module_version": "1.5.0",
      "_model_name": "DescriptionStyleModel",
      "_view_count": null,
      "_view_module": "@jupyter-widgets/base",
      "_view_module_version": "1.2.0",
      "_view_name": "StyleView",
      "description_width": ""
     }
    },
    "2e304cfe634d484b9fd68dab58604b81": {
     "model_module": "@jupyter-widgets/controls",
     "model_module_version": "1.5.0",
     "model_name": "DescriptionStyleModel",
     "state": {
      "_model_module": "@jupyter-widgets/controls",
      "_model_module_version": "1.5.0",
      "_model_name": "DescriptionStyleModel",
      "_view_count": null,
      "_view_module": "@jupyter-widgets/base",
      "_view_module_version": "1.2.0",
      "_view_name": "StyleView",
      "description_width": ""
     }
    },
    "2f0a96a593e54922ac0bfc67ea42420f": {
     "model_module": "@jupyter-widgets/controls",
     "model_module_version": "1.5.0",
     "model_name": "HTMLModel",
     "state": {
      "_dom_classes": [],
      "_model_module": "@jupyter-widgets/controls",
      "_model_module_version": "1.5.0",
      "_model_name": "HTMLModel",
      "_view_count": null,
      "_view_module": "@jupyter-widgets/controls",
      "_view_module_version": "1.5.0",
      "_view_name": "HTMLView",
      "description": "",
      "description_tooltip": null,
      "layout": "IPY_MODEL_04d540d6b8f24fc0b5486998d40a4182",
      "placeholder": "​",
      "style": "IPY_MODEL_2e304cfe634d484b9fd68dab58604b81",
      "value": "4/10 * Epoch (train): 100%"
     }
    },
    "2fec5ec499a4483597ed7ee3cb7c3f4d": {
     "model_module": "@jupyter-widgets/controls",
     "model_module_version": "1.5.0",
     "model_name": "DescriptionStyleModel",
     "state": {
      "_model_module": "@jupyter-widgets/controls",
      "_model_module_version": "1.5.0",
      "_model_name": "DescriptionStyleModel",
      "_view_count": null,
      "_view_module": "@jupyter-widgets/base",
      "_view_module_version": "1.2.0",
      "_view_name": "StyleView",
      "description_width": ""
     }
    },
    "3016df9ac0ee4eae9b27fe1a8e86f72a": {
     "model_module": "@jupyter-widgets/base",
     "model_module_version": "1.2.0",
     "model_name": "LayoutModel",
     "state": {
      "_model_module": "@jupyter-widgets/base",
      "_model_module_version": "1.2.0",
      "_model_name": "LayoutModel",
      "_view_count": null,
      "_view_module": "@jupyter-widgets/base",
      "_view_module_version": "1.2.0",
      "_view_name": "LayoutView",
      "align_content": null,
      "align_items": null,
      "align_self": null,
      "border": null,
      "bottom": null,
      "display": null,
      "flex": null,
      "flex_flow": null,
      "grid_area": null,
      "grid_auto_columns": null,
      "grid_auto_flow": null,
      "grid_auto_rows": null,
      "grid_column": null,
      "grid_gap": null,
      "grid_row": null,
      "grid_template_areas": null,
      "grid_template_columns": null,
      "grid_template_rows": null,
      "height": null,
      "justify_content": null,
      "justify_items": null,
      "left": null,
      "margin": null,
      "max_height": null,
      "max_width": null,
      "min_height": null,
      "min_width": null,
      "object_fit": null,
      "object_position": null,
      "order": null,
      "overflow": null,
      "overflow_x": null,
      "overflow_y": null,
      "padding": null,
      "right": null,
      "top": null,
      "visibility": null,
      "width": null
     }
    },
    "32f58999baf84a69b2b94a1a12fbdacb": {
     "model_module": "@jupyter-widgets/controls",
     "model_module_version": "1.5.0",
     "model_name": "HBoxModel",
     "state": {
      "_dom_classes": [],
      "_model_module": "@jupyter-widgets/controls",
      "_model_module_version": "1.5.0",
      "_model_name": "HBoxModel",
      "_view_count": null,
      "_view_module": "@jupyter-widgets/controls",
      "_view_module_version": "1.5.0",
      "_view_name": "HBoxView",
      "box_style": "",
      "children": [
       "IPY_MODEL_c42021ef80aa415a9addbc68895ee6d1",
       "IPY_MODEL_94a0eb4828e944be857b099c43c15790",
       "IPY_MODEL_1d8c853324954d14a4bca9aa11c5dfaf"
      ],
      "layout": "IPY_MODEL_d07280ef593f4384bc3fe5762b7d09a3"
     }
    },
    "3329c8db6f3b4f14859d156cab590671": {
     "model_module": "@jupyter-widgets/controls",
     "model_module_version": "1.5.0",
     "model_name": "DescriptionStyleModel",
     "state": {
      "_model_module": "@jupyter-widgets/controls",
      "_model_module_version": "1.5.0",
      "_model_name": "DescriptionStyleModel",
      "_view_count": null,
      "_view_module": "@jupyter-widgets/base",
      "_view_module_version": "1.2.0",
      "_view_name": "StyleView",
      "description_width": ""
     }
    },
    "34f5962194a04b0aa4ee1573c4c74225": {
     "model_module": "@jupyter-widgets/controls",
     "model_module_version": "1.5.0",
     "model_name": "HTMLModel",
     "state": {
      "_dom_classes": [],
      "_model_module": "@jupyter-widgets/controls",
      "_model_module_version": "1.5.0",
      "_model_name": "HTMLModel",
      "_view_count": null,
      "_view_module": "@jupyter-widgets/controls",
      "_view_module_version": "1.5.0",
      "_view_name": "HTMLView",
      "description": "",
      "description_tooltip": null,
      "layout": "IPY_MODEL_b32f659f7ac64f6fa08e54bdd9dac05f",
      "placeholder": "​",
      "style": "IPY_MODEL_2fec5ec499a4483597ed7ee3cb7c3f4d",
      "value": "8/10 * Epoch (train): 100%"
     }
    },
    "360cd4dec2f1434699f3353ecefc875b": {
     "model_module": "@jupyter-widgets/controls",
     "model_module_version": "1.5.0",
     "model_name": "DescriptionStyleModel",
     "state": {
      "_model_module": "@jupyter-widgets/controls",
      "_model_module_version": "1.5.0",
      "_model_name": "DescriptionStyleModel",
      "_view_count": null,
      "_view_module": "@jupyter-widgets/base",
      "_view_module_version": "1.2.0",
      "_view_name": "StyleView",
      "description_width": ""
     }
    },
    "3613bf01863b4fe5805d8944d56ff4eb": {
     "model_module": "@jupyter-widgets/controls",
     "model_module_version": "1.5.0",
     "model_name": "DescriptionStyleModel",
     "state": {
      "_model_module": "@jupyter-widgets/controls",
      "_model_module_version": "1.5.0",
      "_model_name": "DescriptionStyleModel",
      "_view_count": null,
      "_view_module": "@jupyter-widgets/base",
      "_view_module_version": "1.2.0",
      "_view_name": "StyleView",
      "description_width": ""
     }
    },
    "397a4634c30e4cb8ac249d24d97e9f9c": {
     "model_module": "@jupyter-widgets/controls",
     "model_module_version": "1.5.0",
     "model_name": "DescriptionStyleModel",
     "state": {
      "_model_module": "@jupyter-widgets/controls",
      "_model_module_version": "1.5.0",
      "_model_name": "DescriptionStyleModel",
      "_view_count": null,
      "_view_module": "@jupyter-widgets/base",
      "_view_module_version": "1.2.0",
      "_view_name": "StyleView",
      "description_width": ""
     }
    },
    "3dface7c5a414c42a32a634d0ee019e1": {
     "model_module": "@jupyter-widgets/controls",
     "model_module_version": "1.5.0",
     "model_name": "FloatProgressModel",
     "state": {
      "_dom_classes": [],
      "_model_module": "@jupyter-widgets/controls",
      "_model_module_version": "1.5.0",
      "_model_name": "FloatProgressModel",
      "_view_count": null,
      "_view_module": "@jupyter-widgets/controls",
      "_view_module_version": "1.5.0",
      "_view_name": "ProgressView",
      "bar_style": "success",
      "description": "",
      "description_tooltip": null,
      "layout": "IPY_MODEL_6eb236b8af56427195b3a44ea81eeb7a",
      "max": 157,
      "min": 0,
      "orientation": "horizontal",
      "style": "IPY_MODEL_7c5d11f280dc4018a168d0c9fa499749",
      "value": 157
     }
    },
    "3ec8b3a6c3c0482482b80898abf7f2d3": {
     "model_module": "@jupyter-widgets/controls",
     "model_module_version": "1.5.0",
     "model_name": "HBoxModel",
     "state": {
      "_dom_classes": [],
      "_model_module": "@jupyter-widgets/controls",
      "_model_module_version": "1.5.0",
      "_model_name": "HBoxModel",
      "_view_count": null,
      "_view_module": "@jupyter-widgets/controls",
      "_view_module_version": "1.5.0",
      "_view_name": "HBoxView",
      "box_style": "",
      "children": [
       "IPY_MODEL_f7ef7e1b784f48db9e2a8b9fba9fa345",
       "IPY_MODEL_3dface7c5a414c42a32a634d0ee019e1",
       "IPY_MODEL_4d012947c4ef4ebd918328401f06e3ab"
      ],
      "layout": "IPY_MODEL_645dc6ea3886445e8807d0e66f7fd7ac"
     }
    },
    "3ee6231a08fb43f2867e724051a110de": {
     "model_module": "@jupyter-widgets/controls",
     "model_module_version": "1.5.0",
     "model_name": "ProgressStyleModel",
     "state": {
      "_model_module": "@jupyter-widgets/controls",
      "_model_module_version": "1.5.0",
      "_model_name": "ProgressStyleModel",
      "_view_count": null,
      "_view_module": "@jupyter-widgets/base",
      "_view_module_version": "1.2.0",
      "_view_name": "StyleView",
      "bar_color": null,
      "description_width": ""
     }
    },
    "449b8d6017fd4eafb63e0b0a943f8ebf": {
     "model_module": "@jupyter-widgets/controls",
     "model_module_version": "1.5.0",
     "model_name": "HBoxModel",
     "state": {
      "_dom_classes": [],
      "_model_module": "@jupyter-widgets/controls",
      "_model_module_version": "1.5.0",
      "_model_name": "HBoxModel",
      "_view_count": null,
      "_view_module": "@jupyter-widgets/controls",
      "_view_module_version": "1.5.0",
      "_view_name": "HBoxView",
      "box_style": "",
      "children": [
       "IPY_MODEL_8f3691baf3bc41f2b32bc45313c6b884",
       "IPY_MODEL_0906830d21174629babdfcb6110ed058",
       "IPY_MODEL_76d115156e834dde806c61d7284e22a2"
      ],
      "layout": "IPY_MODEL_a0af27d401ff49e581725fe2bc8ffa4a"
     }
    },
    "458e353b33ff44189ce57a216a8c5078": {
     "model_module": "@jupyter-widgets/controls",
     "model_module_version": "1.5.0",
     "model_name": "HTMLModel",
     "state": {
      "_dom_classes": [],
      "_model_module": "@jupyter-widgets/controls",
      "_model_module_version": "1.5.0",
      "_model_name": "HTMLModel",
      "_view_count": null,
      "_view_module": "@jupyter-widgets/controls",
      "_view_module_version": "1.5.0",
      "_view_name": "HTMLView",
      "description": "",
      "description_tooltip": null,
      "layout": "IPY_MODEL_1352fa14e422414ba00c9e03829d9c0d",
      "placeholder": "​",
      "style": "IPY_MODEL_df953385466c46c09444eb77d307b649",
      "value": "6/10 * Epoch (train): 100%"
     }
    },
    "4829b59f582f4cc19491411750608312": {
     "model_module": "@jupyter-widgets/controls",
     "model_module_version": "1.5.0",
     "model_name": "DescriptionStyleModel",
     "state": {
      "_model_module": "@jupyter-widgets/controls",
      "_model_module_version": "1.5.0",
      "_model_name": "DescriptionStyleModel",
      "_view_count": null,
      "_view_module": "@jupyter-widgets/base",
      "_view_module_version": "1.2.0",
      "_view_name": "StyleView",
      "description_width": ""
     }
    },
    "4d012947c4ef4ebd918328401f06e3ab": {
     "model_module": "@jupyter-widgets/controls",
     "model_module_version": "1.5.0",
     "model_name": "HTMLModel",
     "state": {
      "_dom_classes": [],
      "_model_module": "@jupyter-widgets/controls",
      "_model_module_version": "1.5.0",
      "_model_name": "HTMLModel",
      "_view_count": null,
      "_view_module": "@jupyter-widgets/controls",
      "_view_module_version": "1.5.0",
      "_view_name": "HTMLView",
      "description": "",
      "description_tooltip": null,
      "layout": "IPY_MODEL_d4ded52d125e45af9a427f26f89fe53a",
      "placeholder": "​",
      "style": "IPY_MODEL_397a4634c30e4cb8ac249d24d97e9f9c",
      "value": " 157/157 [01:00&lt;00:00,  3.23it/s, hitrate50=0.199, loss=1089.181, lr=1.000e-03, map50=0.592, momentum=0.900, mrr50=0.810, ndcg50=0.412]"
     }
    },
    "50c19ad91ede4869979771d88a27fa31": {
     "model_module": "@jupyter-widgets/controls",
     "model_module_version": "1.5.0",
     "model_name": "ProgressStyleModel",
     "state": {
      "_model_module": "@jupyter-widgets/controls",
      "_model_module_version": "1.5.0",
      "_model_name": "ProgressStyleModel",
      "_view_count": null,
      "_view_module": "@jupyter-widgets/base",
      "_view_module_version": "1.2.0",
      "_view_name": "StyleView",
      "bar_color": null,
      "description_width": ""
     }
    },
    "50faf10de5a54573904e97a52e420fbd": {
     "model_module": "@jupyter-widgets/controls",
     "model_module_version": "1.5.0",
     "model_name": "DescriptionStyleModel",
     "state": {
      "_model_module": "@jupyter-widgets/controls",
      "_model_module_version": "1.5.0",
      "_model_name": "DescriptionStyleModel",
      "_view_count": null,
      "_view_module": "@jupyter-widgets/base",
      "_view_module_version": "1.2.0",
      "_view_name": "StyleView",
      "description_width": ""
     }
    },
    "547aaa2c549847d18c00399262ba3bdd": {
     "model_module": "@jupyter-widgets/controls",
     "model_module_version": "1.5.0",
     "model_name": "HTMLModel",
     "state": {
      "_dom_classes": [],
      "_model_module": "@jupyter-widgets/controls",
      "_model_module_version": "1.5.0",
      "_model_name": "HTMLModel",
      "_view_count": null,
      "_view_module": "@jupyter-widgets/controls",
      "_view_module_version": "1.5.0",
      "_view_name": "HTMLView",
      "description": "",
      "description_tooltip": null,
      "layout": "IPY_MODEL_81fe6e75a2c84a7ca019be5a74f2a7ba",
      "placeholder": "​",
      "style": "IPY_MODEL_3329c8db6f3b4f14859d156cab590671",
      "value": " 157/157 [01:02&lt;00:00,  3.14it/s, hitrate50=0.053, loss=1337.436, lr=1.000e-03, map50=0.167, momentum=0.900, mrr50=0.194, ndcg50=0.082]"
     }
    },
    "5492956899eb44d293b3703c8c561277": {
     "model_module": "@jupyter-widgets/controls",
     "model_module_version": "1.5.0",
     "model_name": "FloatProgressModel",
     "state": {
      "_dom_classes": [],
      "_model_module": "@jupyter-widgets/controls",
      "_model_module_version": "1.5.0",
      "_model_name": "FloatProgressModel",
      "_view_count": null,
      "_view_module": "@jupyter-widgets/controls",
      "_view_module_version": "1.5.0",
      "_view_name": "ProgressView",
      "bar_style": "success",
      "description": "",
      "description_tooltip": null,
      "layout": "IPY_MODEL_b603ae065bb64c8f8d85379764b8db22",
      "max": 157,
      "min": 0,
      "orientation": "horizontal",
      "style": "IPY_MODEL_3ee6231a08fb43f2867e724051a110de",
      "value": 157
     }
    },
    "559e2479d2b449b18db9cc913dfb95d6": {
     "model_module": "@jupyter-widgets/base",
     "model_module_version": "1.2.0",
     "model_name": "LayoutModel",
     "state": {
      "_model_module": "@jupyter-widgets/base",
      "_model_module_version": "1.2.0",
      "_model_name": "LayoutModel",
      "_view_count": null,
      "_view_module": "@jupyter-widgets/base",
      "_view_module_version": "1.2.0",
      "_view_name": "LayoutView",
      "align_content": null,
      "align_items": null,
      "align_self": null,
      "border": null,
      "bottom": null,
      "display": null,
      "flex": null,
      "flex_flow": null,
      "grid_area": null,
      "grid_auto_columns": null,
      "grid_auto_flow": null,
      "grid_auto_rows": null,
      "grid_column": null,
      "grid_gap": null,
      "grid_row": null,
      "grid_template_areas": null,
      "grid_template_columns": null,
      "grid_template_rows": null,
      "height": null,
      "justify_content": null,
      "justify_items": null,
      "left": null,
      "margin": null,
      "max_height": null,
      "max_width": null,
      "min_height": null,
      "min_width": null,
      "object_fit": null,
      "object_position": null,
      "order": null,
      "overflow": null,
      "overflow_x": null,
      "overflow_y": null,
      "padding": null,
      "right": null,
      "top": null,
      "visibility": null,
      "width": null
     }
    },
    "55d28e18624b443d8def766be7bdd9d9": {
     "model_module": "@jupyter-widgets/base",
     "model_module_version": "1.2.0",
     "model_name": "LayoutModel",
     "state": {
      "_model_module": "@jupyter-widgets/base",
      "_model_module_version": "1.2.0",
      "_model_name": "LayoutModel",
      "_view_count": null,
      "_view_module": "@jupyter-widgets/base",
      "_view_module_version": "1.2.0",
      "_view_name": "LayoutView",
      "align_content": null,
      "align_items": null,
      "align_self": null,
      "border": null,
      "bottom": null,
      "display": null,
      "flex": null,
      "flex_flow": null,
      "grid_area": null,
      "grid_auto_columns": null,
      "grid_auto_flow": null,
      "grid_auto_rows": null,
      "grid_column": null,
      "grid_gap": null,
      "grid_row": null,
      "grid_template_areas": null,
      "grid_template_columns": null,
      "grid_template_rows": null,
      "height": null,
      "justify_content": null,
      "justify_items": null,
      "left": null,
      "margin": null,
      "max_height": null,
      "max_width": null,
      "min_height": null,
      "min_width": null,
      "object_fit": null,
      "object_position": null,
      "order": null,
      "overflow": null,
      "overflow_x": null,
      "overflow_y": null,
      "padding": null,
      "right": null,
      "top": null,
      "visibility": null,
      "width": null
     }
    },
    "5826e7aca21c4f6689fc8f92a57f8ff0": {
     "model_module": "@jupyter-widgets/base",
     "model_module_version": "1.2.0",
     "model_name": "LayoutModel",
     "state": {
      "_model_module": "@jupyter-widgets/base",
      "_model_module_version": "1.2.0",
      "_model_name": "LayoutModel",
      "_view_count": null,
      "_view_module": "@jupyter-widgets/base",
      "_view_module_version": "1.2.0",
      "_view_name": "LayoutView",
      "align_content": null,
      "align_items": null,
      "align_self": null,
      "border": null,
      "bottom": null,
      "display": null,
      "flex": null,
      "flex_flow": null,
      "grid_area": null,
      "grid_auto_columns": null,
      "grid_auto_flow": null,
      "grid_auto_rows": null,
      "grid_column": null,
      "grid_gap": null,
      "grid_row": null,
      "grid_template_areas": null,
      "grid_template_columns": null,
      "grid_template_rows": null,
      "height": null,
      "justify_content": null,
      "justify_items": null,
      "left": null,
      "margin": null,
      "max_height": null,
      "max_width": null,
      "min_height": null,
      "min_width": null,
      "object_fit": null,
      "object_position": null,
      "order": null,
      "overflow": null,
      "overflow_x": null,
      "overflow_y": null,
      "padding": null,
      "right": null,
      "top": null,
      "visibility": null,
      "width": null
     }
    },
    "5a3df6bbf5a84b34b88078e2338dad08": {
     "model_module": "@jupyter-widgets/controls",
     "model_module_version": "1.5.0",
     "model_name": "DescriptionStyleModel",
     "state": {
      "_model_module": "@jupyter-widgets/controls",
      "_model_module_version": "1.5.0",
      "_model_name": "DescriptionStyleModel",
      "_view_count": null,
      "_view_module": "@jupyter-widgets/base",
      "_view_module_version": "1.2.0",
      "_view_name": "StyleView",
      "description_width": ""
     }
    },
    "5d3ce4c1b5734084bb5d95f89915a780": {
     "model_module": "@jupyter-widgets/base",
     "model_module_version": "1.2.0",
     "model_name": "LayoutModel",
     "state": {
      "_model_module": "@jupyter-widgets/base",
      "_model_module_version": "1.2.0",
      "_model_name": "LayoutModel",
      "_view_count": null,
      "_view_module": "@jupyter-widgets/base",
      "_view_module_version": "1.2.0",
      "_view_name": "LayoutView",
      "align_content": null,
      "align_items": null,
      "align_self": null,
      "border": null,
      "bottom": null,
      "display": null,
      "flex": null,
      "flex_flow": null,
      "grid_area": null,
      "grid_auto_columns": null,
      "grid_auto_flow": null,
      "grid_auto_rows": null,
      "grid_column": null,
      "grid_gap": null,
      "grid_row": null,
      "grid_template_areas": null,
      "grid_template_columns": null,
      "grid_template_rows": null,
      "height": null,
      "justify_content": null,
      "justify_items": null,
      "left": null,
      "margin": null,
      "max_height": null,
      "max_width": null,
      "min_height": null,
      "min_width": null,
      "object_fit": null,
      "object_position": null,
      "order": null,
      "overflow": null,
      "overflow_x": null,
      "overflow_y": null,
      "padding": null,
      "right": null,
      "top": null,
      "visibility": null,
      "width": null
     }
    },
    "645dc6ea3886445e8807d0e66f7fd7ac": {
     "model_module": "@jupyter-widgets/base",
     "model_module_version": "1.2.0",
     "model_name": "LayoutModel",
     "state": {
      "_model_module": "@jupyter-widgets/base",
      "_model_module_version": "1.2.0",
      "_model_name": "LayoutModel",
      "_view_count": null,
      "_view_module": "@jupyter-widgets/base",
      "_view_module_version": "1.2.0",
      "_view_name": "LayoutView",
      "align_content": null,
      "align_items": null,
      "align_self": null,
      "border": null,
      "bottom": null,
      "display": null,
      "flex": null,
      "flex_flow": null,
      "grid_area": null,
      "grid_auto_columns": null,
      "grid_auto_flow": null,
      "grid_auto_rows": null,
      "grid_column": null,
      "grid_gap": null,
      "grid_row": null,
      "grid_template_areas": null,
      "grid_template_columns": null,
      "grid_template_rows": null,
      "height": null,
      "justify_content": null,
      "justify_items": null,
      "left": null,
      "margin": null,
      "max_height": null,
      "max_width": null,
      "min_height": null,
      "min_width": null,
      "object_fit": null,
      "object_position": null,
      "order": null,
      "overflow": null,
      "overflow_x": null,
      "overflow_y": null,
      "padding": null,
      "right": null,
      "top": null,
      "visibility": null,
      "width": null
     }
    },
    "649c4a779da14882837fa1e08aa18d3c": {
     "model_module": "@jupyter-widgets/controls",
     "model_module_version": "1.5.0",
     "model_name": "HBoxModel",
     "state": {
      "_dom_classes": [],
      "_model_module": "@jupyter-widgets/controls",
      "_model_module_version": "1.5.0",
      "_model_name": "HBoxModel",
      "_view_count": null,
      "_view_module": "@jupyter-widgets/controls",
      "_view_module_version": "1.5.0",
      "_view_name": "HBoxView",
      "box_style": "",
      "children": [
       "IPY_MODEL_cbc830e0477b4eb5821d60ad3526ab41",
       "IPY_MODEL_f17ff04e6c1747fa85d947d7ef244e8d",
       "IPY_MODEL_01cb70a7a2534199b953aeb35cf15020"
      ],
      "layout": "IPY_MODEL_05f483596d0041ef8778c944cc1c3c81"
     }
    },
    "68b82885ef5846acb80042e1d762d1c4": {
     "model_module": "@jupyter-widgets/base",
     "model_module_version": "1.2.0",
     "model_name": "LayoutModel",
     "state": {
      "_model_module": "@jupyter-widgets/base",
      "_model_module_version": "1.2.0",
      "_model_name": "LayoutModel",
      "_view_count": null,
      "_view_module": "@jupyter-widgets/base",
      "_view_module_version": "1.2.0",
      "_view_name": "LayoutView",
      "align_content": null,
      "align_items": null,
      "align_self": null,
      "border": null,
      "bottom": null,
      "display": null,
      "flex": null,
      "flex_flow": null,
      "grid_area": null,
      "grid_auto_columns": null,
      "grid_auto_flow": null,
      "grid_auto_rows": null,
      "grid_column": null,
      "grid_gap": null,
      "grid_row": null,
      "grid_template_areas": null,
      "grid_template_columns": null,
      "grid_template_rows": null,
      "height": null,
      "justify_content": null,
      "justify_items": null,
      "left": null,
      "margin": null,
      "max_height": null,
      "max_width": null,
      "min_height": null,
      "min_width": null,
      "object_fit": null,
      "object_position": null,
      "order": null,
      "overflow": null,
      "overflow_x": null,
      "overflow_y": null,
      "padding": null,
      "right": null,
      "top": null,
      "visibility": null,
      "width": null
     }
    },
    "6a99bb50467145118b4ea20390a74586": {
     "model_module": "@jupyter-widgets/controls",
     "model_module_version": "1.5.0",
     "model_name": "FloatProgressModel",
     "state": {
      "_dom_classes": [],
      "_model_module": "@jupyter-widgets/controls",
      "_model_module_version": "1.5.0",
      "_model_name": "FloatProgressModel",
      "_view_count": null,
      "_view_module": "@jupyter-widgets/controls",
      "_view_module_version": "1.5.0",
      "_view_name": "ProgressView",
      "bar_style": "success",
      "description": "",
      "description_tooltip": null,
      "layout": "IPY_MODEL_93988138102144879f3553b318e589c6",
      "max": 157,
      "min": 0,
      "orientation": "horizontal",
      "style": "IPY_MODEL_15cd8f7fb03f43a4ba3c96f07a57d906",
      "value": 157
     }
    },
    "6eb236b8af56427195b3a44ea81eeb7a": {
     "model_module": "@jupyter-widgets/base",
     "model_module_version": "1.2.0",
     "model_name": "LayoutModel",
     "state": {
      "_model_module": "@jupyter-widgets/base",
      "_model_module_version": "1.2.0",
      "_model_name": "LayoutModel",
      "_view_count": null,
      "_view_module": "@jupyter-widgets/base",
      "_view_module_version": "1.2.0",
      "_view_name": "LayoutView",
      "align_content": null,
      "align_items": null,
      "align_self": null,
      "border": null,
      "bottom": null,
      "display": null,
      "flex": null,
      "flex_flow": null,
      "grid_area": null,
      "grid_auto_columns": null,
      "grid_auto_flow": null,
      "grid_auto_rows": null,
      "grid_column": null,
      "grid_gap": null,
      "grid_row": null,
      "grid_template_areas": null,
      "grid_template_columns": null,
      "grid_template_rows": null,
      "height": null,
      "justify_content": null,
      "justify_items": null,
      "left": null,
      "margin": null,
      "max_height": null,
      "max_width": null,
      "min_height": null,
      "min_width": null,
      "object_fit": null,
      "object_position": null,
      "order": null,
      "overflow": null,
      "overflow_x": null,
      "overflow_y": null,
      "padding": null,
      "right": null,
      "top": null,
      "visibility": null,
      "width": null
     }
    },
    "708a2380d1dc47fc921dc866e75c0c1c": {
     "model_module": "@jupyter-widgets/controls",
     "model_module_version": "1.5.0",
     "model_name": "DescriptionStyleModel",
     "state": {
      "_model_module": "@jupyter-widgets/controls",
      "_model_module_version": "1.5.0",
      "_model_name": "DescriptionStyleModel",
      "_view_count": null,
      "_view_module": "@jupyter-widgets/base",
      "_view_module_version": "1.2.0",
      "_view_name": "StyleView",
      "description_width": ""
     }
    },
    "72e243658e6b44938bdcb467b485f88d": {
     "model_module": "@jupyter-widgets/controls",
     "model_module_version": "1.5.0",
     "model_name": "DescriptionStyleModel",
     "state": {
      "_model_module": "@jupyter-widgets/controls",
      "_model_module_version": "1.5.0",
      "_model_name": "DescriptionStyleModel",
      "_view_count": null,
      "_view_module": "@jupyter-widgets/base",
      "_view_module_version": "1.2.0",
      "_view_name": "StyleView",
      "description_width": ""
     }
    },
    "737255bdb8854156991286fedc618f2f": {
     "model_module": "@jupyter-widgets/controls",
     "model_module_version": "1.5.0",
     "model_name": "HBoxModel",
     "state": {
      "_dom_classes": [],
      "_model_module": "@jupyter-widgets/controls",
      "_model_module_version": "1.5.0",
      "_model_name": "HBoxModel",
      "_view_count": null,
      "_view_module": "@jupyter-widgets/controls",
      "_view_module_version": "1.5.0",
      "_view_name": "HBoxView",
      "box_style": "",
      "children": [
       "IPY_MODEL_2f0a96a593e54922ac0bfc67ea42420f",
       "IPY_MODEL_5492956899eb44d293b3703c8c561277",
       "IPY_MODEL_fe05d0bcbb8d405b94aa28eafda8a0cc"
      ],
      "layout": "IPY_MODEL_559e2479d2b449b18db9cc913dfb95d6"
     }
    },
    "76d115156e834dde806c61d7284e22a2": {
     "model_module": "@jupyter-widgets/controls",
     "model_module_version": "1.5.0",
     "model_name": "HTMLModel",
     "state": {
      "_dom_classes": [],
      "_model_module": "@jupyter-widgets/controls",
      "_model_module_version": "1.5.0",
      "_model_name": "HTMLModel",
      "_view_count": null,
      "_view_module": "@jupyter-widgets/controls",
      "_view_module_version": "1.5.0",
      "_view_name": "HTMLView",
      "description": "",
      "description_tooltip": null,
      "layout": "IPY_MODEL_68b82885ef5846acb80042e1d762d1c4",
      "placeholder": "​",
      "style": "IPY_MODEL_95cb00de994647d29359942551a83a5a",
      "value": " 157/157 [01:00&lt;00:00,  3.23it/s, hitrate50=0.349, loss=950.970, lr=1.000e-03, map50=0.749, momentum=0.900, mrr50=0.969, ndcg50=0.663]"
     }
    },
    "78b13fdcdbda4d88afb926cec50e11f4": {
     "model_module": "@jupyter-widgets/controls",
     "model_module_version": "1.5.0",
     "model_name": "ProgressStyleModel",
     "state": {
      "_model_module": "@jupyter-widgets/controls",
      "_model_module_version": "1.5.0",
      "_model_name": "ProgressStyleModel",
      "_view_count": null,
      "_view_module": "@jupyter-widgets/base",
      "_view_module_version": "1.2.0",
      "_view_name": "StyleView",
      "bar_color": null,
      "description_width": ""
     }
    },
    "7c23b74cb0de44838c62347f7d0740c2": {
     "model_module": "@jupyter-widgets/controls",
     "model_module_version": "1.5.0",
     "model_name": "ProgressStyleModel",
     "state": {
      "_model_module": "@jupyter-widgets/controls",
      "_model_module_version": "1.5.0",
      "_model_name": "ProgressStyleModel",
      "_view_count": null,
      "_view_module": "@jupyter-widgets/base",
      "_view_module_version": "1.2.0",
      "_view_name": "StyleView",
      "bar_color": null,
      "description_width": ""
     }
    },
    "7c5d11f280dc4018a168d0c9fa499749": {
     "model_module": "@jupyter-widgets/controls",
     "model_module_version": "1.5.0",
     "model_name": "ProgressStyleModel",
     "state": {
      "_model_module": "@jupyter-widgets/controls",
      "_model_module_version": "1.5.0",
      "_model_name": "ProgressStyleModel",
      "_view_count": null,
      "_view_module": "@jupyter-widgets/base",
      "_view_module_version": "1.2.0",
      "_view_name": "StyleView",
      "bar_color": null,
      "description_width": ""
     }
    },
    "7f732ce252624ed297bf890771e90f9e": {
     "model_module": "@jupyter-widgets/controls",
     "model_module_version": "1.5.0",
     "model_name": "FloatProgressModel",
     "state": {
      "_dom_classes": [],
      "_model_module": "@jupyter-widgets/controls",
      "_model_module_version": "1.5.0",
      "_model_name": "FloatProgressModel",
      "_view_count": null,
      "_view_module": "@jupyter-widgets/controls",
      "_view_module_version": "1.5.0",
      "_view_name": "ProgressView",
      "bar_style": "success",
      "description": "",
      "description_tooltip": null,
      "layout": "IPY_MODEL_d772bb2b39da4b968971e40de4009f88",
      "max": 157,
      "min": 0,
      "orientation": "horizontal",
      "style": "IPY_MODEL_78b13fdcdbda4d88afb926cec50e11f4",
      "value": 157
     }
    },
    "81fe6e75a2c84a7ca019be5a74f2a7ba": {
     "model_module": "@jupyter-widgets/base",
     "model_module_version": "1.2.0",
     "model_name": "LayoutModel",
     "state": {
      "_model_module": "@jupyter-widgets/base",
      "_model_module_version": "1.2.0",
      "_model_name": "LayoutModel",
      "_view_count": null,
      "_view_module": "@jupyter-widgets/base",
      "_view_module_version": "1.2.0",
      "_view_name": "LayoutView",
      "align_content": null,
      "align_items": null,
      "align_self": null,
      "border": null,
      "bottom": null,
      "display": null,
      "flex": null,
      "flex_flow": null,
      "grid_area": null,
      "grid_auto_columns": null,
      "grid_auto_flow": null,
      "grid_auto_rows": null,
      "grid_column": null,
      "grid_gap": null,
      "grid_row": null,
      "grid_template_areas": null,
      "grid_template_columns": null,
      "grid_template_rows": null,
      "height": null,
      "justify_content": null,
      "justify_items": null,
      "left": null,
      "margin": null,
      "max_height": null,
      "max_width": null,
      "min_height": null,
      "min_width": null,
      "object_fit": null,
      "object_position": null,
      "order": null,
      "overflow": null,
      "overflow_x": null,
      "overflow_y": null,
      "padding": null,
      "right": null,
      "top": null,
      "visibility": null,
      "width": null
     }
    },
    "8aaf88fc426d4e8c85f5309930342a2f": {
     "model_module": "@jupyter-widgets/controls",
     "model_module_version": "1.5.0",
     "model_name": "HBoxModel",
     "state": {
      "_dom_classes": [],
      "_model_module": "@jupyter-widgets/controls",
      "_model_module_version": "1.5.0",
      "_model_name": "HBoxModel",
      "_view_count": null,
      "_view_module": "@jupyter-widgets/controls",
      "_view_module_version": "1.5.0",
      "_view_name": "HBoxView",
      "box_style": "",
      "children": [
       "IPY_MODEL_34f5962194a04b0aa4ee1573c4c74225",
       "IPY_MODEL_6a99bb50467145118b4ea20390a74586",
       "IPY_MODEL_a9de5bdecba74a1892aa00c12fe815c3"
      ],
      "layout": "IPY_MODEL_0f26dd358b8b4b728e7ffc61e6a99cc0"
     }
    },
    "8cf7ce8a0ba24fa68396495ba5f7130b": {
     "model_module": "@jupyter-widgets/controls",
     "model_module_version": "1.5.0",
     "model_name": "HTMLModel",
     "state": {
      "_dom_classes": [],
      "_model_module": "@jupyter-widgets/controls",
      "_model_module_version": "1.5.0",
      "_model_name": "HTMLModel",
      "_view_count": null,
      "_view_module": "@jupyter-widgets/controls",
      "_view_module_version": "1.5.0",
      "_view_name": "HTMLView",
      "description": "",
      "description_tooltip": null,
      "layout": "IPY_MODEL_96ef22acf4fe4d0c91fe51801765f859",
      "placeholder": "​",
      "style": "IPY_MODEL_a913927360f348a79e29fbefc9ef6632",
      "value": " 157/157 [01:00&lt;00:00,  3.28it/s, hitrate50=0.498, loss=834.055, lr=1.000e-03, map50=0.928, momentum=0.900, mrr50=1.000, ndcg50=0.878]"
     }
    },
    "8f3691baf3bc41f2b32bc45313c6b884": {
     "model_module": "@jupyter-widgets/controls",
     "model_module_version": "1.5.0",
     "model_name": "HTMLModel",
     "state": {
      "_dom_classes": [],
      "_model_module": "@jupyter-widgets/controls",
      "_model_module_version": "1.5.0",
      "_model_name": "HTMLModel",
      "_view_count": null,
      "_view_module": "@jupyter-widgets/controls",
      "_view_module_version": "1.5.0",
      "_view_name": "HTMLView",
      "description": "",
      "description_tooltip": null,
      "layout": "IPY_MODEL_d48eed781aec492aac6b9e392b6f1dd1",
      "placeholder": "​",
      "style": "IPY_MODEL_a93159c8ce8e4b27a234137e99ce3bef",
      "value": "7/10 * Epoch (train): 100%"
     }
    },
    "91d47d107832406b9ce5857197baaf43": {
     "model_module": "@jupyter-widgets/base",
     "model_module_version": "1.2.0",
     "model_name": "LayoutModel",
     "state": {
      "_model_module": "@jupyter-widgets/base",
      "_model_module_version": "1.2.0",
      "_model_name": "LayoutModel",
      "_view_count": null,
      "_view_module": "@jupyter-widgets/base",
      "_view_module_version": "1.2.0",
      "_view_name": "LayoutView",
      "align_content": null,
      "align_items": null,
      "align_self": null,
      "border": null,
      "bottom": null,
      "display": null,
      "flex": null,
      "flex_flow": null,
      "grid_area": null,
      "grid_auto_columns": null,
      "grid_auto_flow": null,
      "grid_auto_rows": null,
      "grid_column": null,
      "grid_gap": null,
      "grid_row": null,
      "grid_template_areas": null,
      "grid_template_columns": null,
      "grid_template_rows": null,
      "height": null,
      "justify_content": null,
      "justify_items": null,
      "left": null,
      "margin": null,
      "max_height": null,
      "max_width": null,
      "min_height": null,
      "min_width": null,
      "object_fit": null,
      "object_position": null,
      "order": null,
      "overflow": null,
      "overflow_x": null,
      "overflow_y": null,
      "padding": null,
      "right": null,
      "top": null,
      "visibility": null,
      "width": null
     }
    },
    "93988138102144879f3553b318e589c6": {
     "model_module": "@jupyter-widgets/base",
     "model_module_version": "1.2.0",
     "model_name": "LayoutModel",
     "state": {
      "_model_module": "@jupyter-widgets/base",
      "_model_module_version": "1.2.0",
      "_model_name": "LayoutModel",
      "_view_count": null,
      "_view_module": "@jupyter-widgets/base",
      "_view_module_version": "1.2.0",
      "_view_name": "LayoutView",
      "align_content": null,
      "align_items": null,
      "align_self": null,
      "border": null,
      "bottom": null,
      "display": null,
      "flex": null,
      "flex_flow": null,
      "grid_area": null,
      "grid_auto_columns": null,
      "grid_auto_flow": null,
      "grid_auto_rows": null,
      "grid_column": null,
      "grid_gap": null,
      "grid_row": null,
      "grid_template_areas": null,
      "grid_template_columns": null,
      "grid_template_rows": null,
      "height": null,
      "justify_content": null,
      "justify_items": null,
      "left": null,
      "margin": null,
      "max_height": null,
      "max_width": null,
      "min_height": null,
      "min_width": null,
      "object_fit": null,
      "object_position": null,
      "order": null,
      "overflow": null,
      "overflow_x": null,
      "overflow_y": null,
      "padding": null,
      "right": null,
      "top": null,
      "visibility": null,
      "width": null
     }
    },
    "9434f89f37b94ca5afa6ca11a8e552d9": {
     "model_module": "@jupyter-widgets/base",
     "model_module_version": "1.2.0",
     "model_name": "LayoutModel",
     "state": {
      "_model_module": "@jupyter-widgets/base",
      "_model_module_version": "1.2.0",
      "_model_name": "LayoutModel",
      "_view_count": null,
      "_view_module": "@jupyter-widgets/base",
      "_view_module_version": "1.2.0",
      "_view_name": "LayoutView",
      "align_content": null,
      "align_items": null,
      "align_self": null,
      "border": null,
      "bottom": null,
      "display": null,
      "flex": null,
      "flex_flow": null,
      "grid_area": null,
      "grid_auto_columns": null,
      "grid_auto_flow": null,
      "grid_auto_rows": null,
      "grid_column": null,
      "grid_gap": null,
      "grid_row": null,
      "grid_template_areas": null,
      "grid_template_columns": null,
      "grid_template_rows": null,
      "height": null,
      "justify_content": null,
      "justify_items": null,
      "left": null,
      "margin": null,
      "max_height": null,
      "max_width": null,
      "min_height": null,
      "min_width": null,
      "object_fit": null,
      "object_position": null,
      "order": null,
      "overflow": null,
      "overflow_x": null,
      "overflow_y": null,
      "padding": null,
      "right": null,
      "top": null,
      "visibility": null,
      "width": null
     }
    },
    "94a0eb4828e944be857b099c43c15790": {
     "model_module": "@jupyter-widgets/controls",
     "model_module_version": "1.5.0",
     "model_name": "FloatProgressModel",
     "state": {
      "_dom_classes": [],
      "_model_module": "@jupyter-widgets/controls",
      "_model_module_version": "1.5.0",
      "_model_name": "FloatProgressModel",
      "_view_count": null,
      "_view_module": "@jupyter-widgets/controls",
      "_view_module_version": "1.5.0",
      "_view_name": "ProgressView",
      "bar_style": "success",
      "description": "",
      "description_tooltip": null,
      "layout": "IPY_MODEL_3016df9ac0ee4eae9b27fe1a8e86f72a",
      "max": 157,
      "min": 0,
      "orientation": "horizontal",
      "style": "IPY_MODEL_9c09963e626845d7abfc3a6c65a92ec1",
      "value": 157
     }
    },
    "95cb00de994647d29359942551a83a5a": {
     "model_module": "@jupyter-widgets/controls",
     "model_module_version": "1.5.0",
     "model_name": "DescriptionStyleModel",
     "state": {
      "_model_module": "@jupyter-widgets/controls",
      "_model_module_version": "1.5.0",
      "_model_name": "DescriptionStyleModel",
      "_view_count": null,
      "_view_module": "@jupyter-widgets/base",
      "_view_module_version": "1.2.0",
      "_view_name": "StyleView",
      "description_width": ""
     }
    },
    "96645f31631a4b82a193d9b5d080d2c2": {
     "model_module": "@jupyter-widgets/controls",
     "model_module_version": "1.5.0",
     "model_name": "HTMLModel",
     "state": {
      "_dom_classes": [],
      "_model_module": "@jupyter-widgets/controls",
      "_model_module_version": "1.5.0",
      "_model_name": "HTMLModel",
      "_view_count": null,
      "_view_module": "@jupyter-widgets/controls",
      "_view_module_version": "1.5.0",
      "_view_name": "HTMLView",
      "description": "",
      "description_tooltip": null,
      "layout": "IPY_MODEL_55d28e18624b443d8def766be7bdd9d9",
      "placeholder": "​",
      "style": "IPY_MODEL_4829b59f582f4cc19491411750608312",
      "value": " 157/157 [01:02&lt;00:00,  3.19it/s, hitrate50=0.069, loss=1308.574, lr=1.000e-03, map50=0.417, momentum=0.900, mrr50=0.584, ndcg50=0.171]"
     }
    },
    "96ef22acf4fe4d0c91fe51801765f859": {
     "model_module": "@jupyter-widgets/base",
     "model_module_version": "1.2.0",
     "model_name": "LayoutModel",
     "state": {
      "_model_module": "@jupyter-widgets/base",
      "_model_module_version": "1.2.0",
      "_model_name": "LayoutModel",
      "_view_count": null,
      "_view_module": "@jupyter-widgets/base",
      "_view_module_version": "1.2.0",
      "_view_name": "LayoutView",
      "align_content": null,
      "align_items": null,
      "align_self": null,
      "border": null,
      "bottom": null,
      "display": null,
      "flex": null,
      "flex_flow": null,
      "grid_area": null,
      "grid_auto_columns": null,
      "grid_auto_flow": null,
      "grid_auto_rows": null,
      "grid_column": null,
      "grid_gap": null,
      "grid_row": null,
      "grid_template_areas": null,
      "grid_template_columns": null,
      "grid_template_rows": null,
      "height": null,
      "justify_content": null,
      "justify_items": null,
      "left": null,
      "margin": null,
      "max_height": null,
      "max_width": null,
      "min_height": null,
      "min_width": null,
      "object_fit": null,
      "object_position": null,
      "order": null,
      "overflow": null,
      "overflow_x": null,
      "overflow_y": null,
      "padding": null,
      "right": null,
      "top": null,
      "visibility": null,
      "width": null
     }
    },
    "9c09963e626845d7abfc3a6c65a92ec1": {
     "model_module": "@jupyter-widgets/controls",
     "model_module_version": "1.5.0",
     "model_name": "ProgressStyleModel",
     "state": {
      "_model_module": "@jupyter-widgets/controls",
      "_model_module_version": "1.5.0",
      "_model_name": "ProgressStyleModel",
      "_view_count": null,
      "_view_module": "@jupyter-widgets/base",
      "_view_module_version": "1.2.0",
      "_view_name": "StyleView",
      "bar_color": null,
      "description_width": ""
     }
    },
    "9dcf31803e774340b7cf3160261200b2": {
     "model_module": "@jupyter-widgets/controls",
     "model_module_version": "1.5.0",
     "model_name": "ProgressStyleModel",
     "state": {
      "_model_module": "@jupyter-widgets/controls",
      "_model_module_version": "1.5.0",
      "_model_name": "ProgressStyleModel",
      "_view_count": null,
      "_view_module": "@jupyter-widgets/base",
      "_view_module_version": "1.2.0",
      "_view_name": "StyleView",
      "bar_color": null,
      "description_width": ""
     }
    },
    "a0af27d401ff49e581725fe2bc8ffa4a": {
     "model_module": "@jupyter-widgets/base",
     "model_module_version": "1.2.0",
     "model_name": "LayoutModel",
     "state": {
      "_model_module": "@jupyter-widgets/base",
      "_model_module_version": "1.2.0",
      "_model_name": "LayoutModel",
      "_view_count": null,
      "_view_module": "@jupyter-widgets/base",
      "_view_module_version": "1.2.0",
      "_view_name": "LayoutView",
      "align_content": null,
      "align_items": null,
      "align_self": null,
      "border": null,
      "bottom": null,
      "display": null,
      "flex": null,
      "flex_flow": null,
      "grid_area": null,
      "grid_auto_columns": null,
      "grid_auto_flow": null,
      "grid_auto_rows": null,
      "grid_column": null,
      "grid_gap": null,
      "grid_row": null,
      "grid_template_areas": null,
      "grid_template_columns": null,
      "grid_template_rows": null,
      "height": null,
      "justify_content": null,
      "justify_items": null,
      "left": null,
      "margin": null,
      "max_height": null,
      "max_width": null,
      "min_height": null,
      "min_width": null,
      "object_fit": null,
      "object_position": null,
      "order": null,
      "overflow": null,
      "overflow_x": null,
      "overflow_y": null,
      "padding": null,
      "right": null,
      "top": null,
      "visibility": null,
      "width": null
     }
    },
    "a4a2215f9c2b4dec84022666da5a1fe9": {
     "model_module": "@jupyter-widgets/base",
     "model_module_version": "1.2.0",
     "model_name": "LayoutModel",
     "state": {
      "_model_module": "@jupyter-widgets/base",
      "_model_module_version": "1.2.0",
      "_model_name": "LayoutModel",
      "_view_count": null,
      "_view_module": "@jupyter-widgets/base",
      "_view_module_version": "1.2.0",
      "_view_name": "LayoutView",
      "align_content": null,
      "align_items": null,
      "align_self": null,
      "border": null,
      "bottom": null,
      "display": null,
      "flex": null,
      "flex_flow": null,
      "grid_area": null,
      "grid_auto_columns": null,
      "grid_auto_flow": null,
      "grid_auto_rows": null,
      "grid_column": null,
      "grid_gap": null,
      "grid_row": null,
      "grid_template_areas": null,
      "grid_template_columns": null,
      "grid_template_rows": null,
      "height": null,
      "justify_content": null,
      "justify_items": null,
      "left": null,
      "margin": null,
      "max_height": null,
      "max_width": null,
      "min_height": null,
      "min_width": null,
      "object_fit": null,
      "object_position": null,
      "order": null,
      "overflow": null,
      "overflow_x": null,
      "overflow_y": null,
      "padding": null,
      "right": null,
      "top": null,
      "visibility": null,
      "width": null
     }
    },
    "a5162cb96f014d77910b1df9d29c4015": {
     "model_module": "@jupyter-widgets/controls",
     "model_module_version": "1.5.0",
     "model_name": "HTMLModel",
     "state": {
      "_dom_classes": [],
      "_model_module": "@jupyter-widgets/controls",
      "_model_module_version": "1.5.0",
      "_model_name": "HTMLModel",
      "_view_count": null,
      "_view_module": "@jupyter-widgets/controls",
      "_view_module_version": "1.5.0",
      "_view_name": "HTMLView",
      "description": "",
      "description_tooltip": null,
      "layout": "IPY_MODEL_178494c826e04588b8d0b54ec92261bb",
      "placeholder": "​",
      "style": "IPY_MODEL_1b275860d5ec4ebcaed3731205496d5e",
      "value": " 157/157 [01:00&lt;00:00,  3.20it/s, hitrate50=0.264, loss=1020.499, lr=1.000e-03, map50=0.690, momentum=0.900, mrr50=0.943, ndcg50=0.538]"
     }
    },
    "a605634796f645d9b74d240af5dfc598": {
     "model_module": "@jupyter-widgets/controls",
     "model_module_version": "1.5.0",
     "model_name": "HBoxModel",
     "state": {
      "_dom_classes": [],
      "_model_module": "@jupyter-widgets/controls",
      "_model_module_version": "1.5.0",
      "_model_name": "HBoxModel",
      "_view_count": null,
      "_view_module": "@jupyter-widgets/controls",
      "_view_module_version": "1.5.0",
      "_view_name": "HBoxView",
      "box_style": "",
      "children": [
       "IPY_MODEL_d2d345aa4eab46228aaf7da1633b2dcb",
       "IPY_MODEL_0e3d782eab984cd08ae4f8782e17241f",
       "IPY_MODEL_96645f31631a4b82a193d9b5d080d2c2"
      ],
      "layout": "IPY_MODEL_e640e63fc1874b43bb53987778cb1ade"
     }
    },
    "a913927360f348a79e29fbefc9ef6632": {
     "model_module": "@jupyter-widgets/controls",
     "model_module_version": "1.5.0",
     "model_name": "DescriptionStyleModel",
     "state": {
      "_model_module": "@jupyter-widgets/controls",
      "_model_module_version": "1.5.0",
      "_model_name": "DescriptionStyleModel",
      "_view_count": null,
      "_view_module": "@jupyter-widgets/base",
      "_view_module_version": "1.2.0",
      "_view_name": "StyleView",
      "description_width": ""
     }
    },
    "a93159c8ce8e4b27a234137e99ce3bef": {
     "model_module": "@jupyter-widgets/controls",
     "model_module_version": "1.5.0",
     "model_name": "DescriptionStyleModel",
     "state": {
      "_model_module": "@jupyter-widgets/controls",
      "_model_module_version": "1.5.0",
      "_model_name": "DescriptionStyleModel",
      "_view_count": null,
      "_view_module": "@jupyter-widgets/base",
      "_view_module_version": "1.2.0",
      "_view_name": "StyleView",
      "description_width": ""
     }
    },
    "a9de5bdecba74a1892aa00c12fe815c3": {
     "model_module": "@jupyter-widgets/controls",
     "model_module_version": "1.5.0",
     "model_name": "HTMLModel",
     "state": {
      "_dom_classes": [],
      "_model_module": "@jupyter-widgets/controls",
      "_model_module_version": "1.5.0",
      "_model_name": "HTMLModel",
      "_view_count": null,
      "_view_module": "@jupyter-widgets/controls",
      "_view_module_version": "1.5.0",
      "_view_name": "HTMLView",
      "description": "",
      "description_tooltip": null,
      "layout": "IPY_MODEL_5d3ce4c1b5734084bb5d95f89915a780",
      "placeholder": "​",
      "style": "IPY_MODEL_18c428d24f9643db99368a01733dd70a",
      "value": " 157/157 [01:00&lt;00:00,  3.25it/s, hitrate50=0.411, loss=898.150, lr=1.000e-03, map50=0.797, momentum=0.900, mrr50=0.969, ndcg50=0.738]"
     }
    },
    "ab864db436704898ab860a07f4a22a91": {
     "model_module": "@jupyter-widgets/controls",
     "model_module_version": "1.5.0",
     "model_name": "FloatProgressModel",
     "state": {
      "_dom_classes": [],
      "_model_module": "@jupyter-widgets/controls",
      "_model_module_version": "1.5.0",
      "_model_name": "FloatProgressModel",
      "_view_count": null,
      "_view_module": "@jupyter-widgets/controls",
      "_view_module_version": "1.5.0",
      "_view_name": "ProgressView",
      "bar_style": "success",
      "description": "",
      "description_tooltip": null,
      "layout": "IPY_MODEL_b23118e39486408d90ed003f0fcfc1c4",
      "max": 157,
      "min": 0,
      "orientation": "horizontal",
      "style": "IPY_MODEL_bd52a31ffdd147a69ddf2dbe8fbf853a",
      "value": 157
     }
    },
    "b0885babe7194b57a2f6253c875f3e86": {
     "model_module": "@jupyter-widgets/controls",
     "model_module_version": "1.5.0",
     "model_name": "HTMLModel",
     "state": {
      "_dom_classes": [],
      "_model_module": "@jupyter-widgets/controls",
      "_model_module_version": "1.5.0",
      "_model_name": "HTMLModel",
      "_view_count": null,
      "_view_module": "@jupyter-widgets/controls",
      "_view_module_version": "1.5.0",
      "_view_name": "HTMLView",
      "description": "",
      "description_tooltip": null,
      "layout": "IPY_MODEL_c0f69d949fbb41dabf6da37b55532213",
      "placeholder": "​",
      "style": "IPY_MODEL_c010017c61624960aa7d1e1960e80f8a",
      "value": "10/10 * Epoch (train): 100%"
     }
    },
    "b23118e39486408d90ed003f0fcfc1c4": {
     "model_module": "@jupyter-widgets/base",
     "model_module_version": "1.2.0",
     "model_name": "LayoutModel",
     "state": {
      "_model_module": "@jupyter-widgets/base",
      "_model_module_version": "1.2.0",
      "_model_name": "LayoutModel",
      "_view_count": null,
      "_view_module": "@jupyter-widgets/base",
      "_view_module_version": "1.2.0",
      "_view_name": "LayoutView",
      "align_content": null,
      "align_items": null,
      "align_self": null,
      "border": null,
      "bottom": null,
      "display": null,
      "flex": null,
      "flex_flow": null,
      "grid_area": null,
      "grid_auto_columns": null,
      "grid_auto_flow": null,
      "grid_auto_rows": null,
      "grid_column": null,
      "grid_gap": null,
      "grid_row": null,
      "grid_template_areas": null,
      "grid_template_columns": null,
      "grid_template_rows": null,
      "height": null,
      "justify_content": null,
      "justify_items": null,
      "left": null,
      "margin": null,
      "max_height": null,
      "max_width": null,
      "min_height": null,
      "min_width": null,
      "object_fit": null,
      "object_position": null,
      "order": null,
      "overflow": null,
      "overflow_x": null,
      "overflow_y": null,
      "padding": null,
      "right": null,
      "top": null,
      "visibility": null,
      "width": null
     }
    },
    "b32f659f7ac64f6fa08e54bdd9dac05f": {
     "model_module": "@jupyter-widgets/base",
     "model_module_version": "1.2.0",
     "model_name": "LayoutModel",
     "state": {
      "_model_module": "@jupyter-widgets/base",
      "_model_module_version": "1.2.0",
      "_model_name": "LayoutModel",
      "_view_count": null,
      "_view_module": "@jupyter-widgets/base",
      "_view_module_version": "1.2.0",
      "_view_name": "LayoutView",
      "align_content": null,
      "align_items": null,
      "align_self": null,
      "border": null,
      "bottom": null,
      "display": null,
      "flex": null,
      "flex_flow": null,
      "grid_area": null,
      "grid_auto_columns": null,
      "grid_auto_flow": null,
      "grid_auto_rows": null,
      "grid_column": null,
      "grid_gap": null,
      "grid_row": null,
      "grid_template_areas": null,
      "grid_template_columns": null,
      "grid_template_rows": null,
      "height": null,
      "justify_content": null,
      "justify_items": null,
      "left": null,
      "margin": null,
      "max_height": null,
      "max_width": null,
      "min_height": null,
      "min_width": null,
      "object_fit": null,
      "object_position": null,
      "order": null,
      "overflow": null,
      "overflow_x": null,
      "overflow_y": null,
      "padding": null,
      "right": null,
      "top": null,
      "visibility": null,
      "width": null
     }
    },
    "b603ae065bb64c8f8d85379764b8db22": {
     "model_module": "@jupyter-widgets/base",
     "model_module_version": "1.2.0",
     "model_name": "LayoutModel",
     "state": {
      "_model_module": "@jupyter-widgets/base",
      "_model_module_version": "1.2.0",
      "_model_name": "LayoutModel",
      "_view_count": null,
      "_view_module": "@jupyter-widgets/base",
      "_view_module_version": "1.2.0",
      "_view_name": "LayoutView",
      "align_content": null,
      "align_items": null,
      "align_self": null,
      "border": null,
      "bottom": null,
      "display": null,
      "flex": null,
      "flex_flow": null,
      "grid_area": null,
      "grid_auto_columns": null,
      "grid_auto_flow": null,
      "grid_auto_rows": null,
      "grid_column": null,
      "grid_gap": null,
      "grid_row": null,
      "grid_template_areas": null,
      "grid_template_columns": null,
      "grid_template_rows": null,
      "height": null,
      "justify_content": null,
      "justify_items": null,
      "left": null,
      "margin": null,
      "max_height": null,
      "max_width": null,
      "min_height": null,
      "min_width": null,
      "object_fit": null,
      "object_position": null,
      "order": null,
      "overflow": null,
      "overflow_x": null,
      "overflow_y": null,
      "padding": null,
      "right": null,
      "top": null,
      "visibility": null,
      "width": null
     }
    },
    "bd52a31ffdd147a69ddf2dbe8fbf853a": {
     "model_module": "@jupyter-widgets/controls",
     "model_module_version": "1.5.0",
     "model_name": "ProgressStyleModel",
     "state": {
      "_model_module": "@jupyter-widgets/controls",
      "_model_module_version": "1.5.0",
      "_model_name": "ProgressStyleModel",
      "_view_count": null,
      "_view_module": "@jupyter-widgets/base",
      "_view_module_version": "1.2.0",
      "_view_name": "StyleView",
      "bar_color": null,
      "description_width": ""
     }
    },
    "c010017c61624960aa7d1e1960e80f8a": {
     "model_module": "@jupyter-widgets/controls",
     "model_module_version": "1.5.0",
     "model_name": "DescriptionStyleModel",
     "state": {
      "_model_module": "@jupyter-widgets/controls",
      "_model_module_version": "1.5.0",
      "_model_name": "DescriptionStyleModel",
      "_view_count": null,
      "_view_module": "@jupyter-widgets/base",
      "_view_module_version": "1.2.0",
      "_view_name": "StyleView",
      "description_width": ""
     }
    },
    "c0f69d949fbb41dabf6da37b55532213": {
     "model_module": "@jupyter-widgets/base",
     "model_module_version": "1.2.0",
     "model_name": "LayoutModel",
     "state": {
      "_model_module": "@jupyter-widgets/base",
      "_model_module_version": "1.2.0",
      "_model_name": "LayoutModel",
      "_view_count": null,
      "_view_module": "@jupyter-widgets/base",
      "_view_module_version": "1.2.0",
      "_view_name": "LayoutView",
      "align_content": null,
      "align_items": null,
      "align_self": null,
      "border": null,
      "bottom": null,
      "display": null,
      "flex": null,
      "flex_flow": null,
      "grid_area": null,
      "grid_auto_columns": null,
      "grid_auto_flow": null,
      "grid_auto_rows": null,
      "grid_column": null,
      "grid_gap": null,
      "grid_row": null,
      "grid_template_areas": null,
      "grid_template_columns": null,
      "grid_template_rows": null,
      "height": null,
      "justify_content": null,
      "justify_items": null,
      "left": null,
      "margin": null,
      "max_height": null,
      "max_width": null,
      "min_height": null,
      "min_width": null,
      "object_fit": null,
      "object_position": null,
      "order": null,
      "overflow": null,
      "overflow_x": null,
      "overflow_y": null,
      "padding": null,
      "right": null,
      "top": null,
      "visibility": null,
      "width": null
     }
    },
    "c42021ef80aa415a9addbc68895ee6d1": {
     "model_module": "@jupyter-widgets/controls",
     "model_module_version": "1.5.0",
     "model_name": "HTMLModel",
     "state": {
      "_dom_classes": [],
      "_model_module": "@jupyter-widgets/controls",
      "_model_module_version": "1.5.0",
      "_model_name": "HTMLModel",
      "_view_count": null,
      "_view_module": "@jupyter-widgets/controls",
      "_view_module_version": "1.5.0",
      "_view_name": "HTMLView",
      "description": "",
      "description_tooltip": null,
      "layout": "IPY_MODEL_91d47d107832406b9ce5857197baaf43",
      "placeholder": "​",
      "style": "IPY_MODEL_3613bf01863b4fe5805d8944d56ff4eb",
      "value": "9/10 * Epoch (train): 100%"
     }
    },
    "c6066c5f72ca4b8f84723af516f11a82": {
     "model_module": "@jupyter-widgets/base",
     "model_module_version": "1.2.0",
     "model_name": "LayoutModel",
     "state": {
      "_model_module": "@jupyter-widgets/base",
      "_model_module_version": "1.2.0",
      "_model_name": "LayoutModel",
      "_view_count": null,
      "_view_module": "@jupyter-widgets/base",
      "_view_module_version": "1.2.0",
      "_view_name": "LayoutView",
      "align_content": null,
      "align_items": null,
      "align_self": null,
      "border": null,
      "bottom": null,
      "display": null,
      "flex": null,
      "flex_flow": null,
      "grid_area": null,
      "grid_auto_columns": null,
      "grid_auto_flow": null,
      "grid_auto_rows": null,
      "grid_column": null,
      "grid_gap": null,
      "grid_row": null,
      "grid_template_areas": null,
      "grid_template_columns": null,
      "grid_template_rows": null,
      "height": null,
      "justify_content": null,
      "justify_items": null,
      "left": null,
      "margin": null,
      "max_height": null,
      "max_width": null,
      "min_height": null,
      "min_width": null,
      "object_fit": null,
      "object_position": null,
      "order": null,
      "overflow": null,
      "overflow_x": null,
      "overflow_y": null,
      "padding": null,
      "right": null,
      "top": null,
      "visibility": null,
      "width": null
     }
    },
    "cbc830e0477b4eb5821d60ad3526ab41": {
     "model_module": "@jupyter-widgets/controls",
     "model_module_version": "1.5.0",
     "model_name": "HTMLModel",
     "state": {
      "_dom_classes": [],
      "_model_module": "@jupyter-widgets/controls",
      "_model_module_version": "1.5.0",
      "_model_name": "HTMLModel",
      "_view_count": null,
      "_view_module": "@jupyter-widgets/controls",
      "_view_module_version": "1.5.0",
      "_view_name": "HTMLView",
      "description": "",
      "description_tooltip": null,
      "layout": "IPY_MODEL_cc4803d5a5fb4bea87184f196c0a1025",
      "placeholder": "​",
      "style": "IPY_MODEL_360cd4dec2f1434699f3353ecefc875b",
      "value": "3/10 * Epoch (train): 100%"
     }
    },
    "cc4803d5a5fb4bea87184f196c0a1025": {
     "model_module": "@jupyter-widgets/base",
     "model_module_version": "1.2.0",
     "model_name": "LayoutModel",
     "state": {
      "_model_module": "@jupyter-widgets/base",
      "_model_module_version": "1.2.0",
      "_model_name": "LayoutModel",
      "_view_count": null,
      "_view_module": "@jupyter-widgets/base",
      "_view_module_version": "1.2.0",
      "_view_name": "LayoutView",
      "align_content": null,
      "align_items": null,
      "align_self": null,
      "border": null,
      "bottom": null,
      "display": null,
      "flex": null,
      "flex_flow": null,
      "grid_area": null,
      "grid_auto_columns": null,
      "grid_auto_flow": null,
      "grid_auto_rows": null,
      "grid_column": null,
      "grid_gap": null,
      "grid_row": null,
      "grid_template_areas": null,
      "grid_template_columns": null,
      "grid_template_rows": null,
      "height": null,
      "justify_content": null,
      "justify_items": null,
      "left": null,
      "margin": null,
      "max_height": null,
      "max_width": null,
      "min_height": null,
      "min_width": null,
      "object_fit": null,
      "object_position": null,
      "order": null,
      "overflow": null,
      "overflow_x": null,
      "overflow_y": null,
      "padding": null,
      "right": null,
      "top": null,
      "visibility": null,
      "width": null
     }
    },
    "ce79600a7b7c41378087691cbccf6cf1": {
     "model_module": "@jupyter-widgets/controls",
     "model_module_version": "1.5.0",
     "model_name": "HBoxModel",
     "state": {
      "_dom_classes": [],
      "_model_module": "@jupyter-widgets/controls",
      "_model_module_version": "1.5.0",
      "_model_name": "HBoxModel",
      "_view_count": null,
      "_view_module": "@jupyter-widgets/controls",
      "_view_module_version": "1.5.0",
      "_view_name": "HBoxView",
      "box_style": "",
      "children": [
       "IPY_MODEL_458e353b33ff44189ce57a216a8c5078",
       "IPY_MODEL_0cf783bb111148b1bbf6098e27b460b6",
       "IPY_MODEL_a5162cb96f014d77910b1df9d29c4015"
      ],
      "layout": "IPY_MODEL_5826e7aca21c4f6689fc8f92a57f8ff0"
     }
    },
    "d07280ef593f4384bc3fe5762b7d09a3": {
     "model_module": "@jupyter-widgets/base",
     "model_module_version": "1.2.0",
     "model_name": "LayoutModel",
     "state": {
      "_model_module": "@jupyter-widgets/base",
      "_model_module_version": "1.2.0",
      "_model_name": "LayoutModel",
      "_view_count": null,
      "_view_module": "@jupyter-widgets/base",
      "_view_module_version": "1.2.0",
      "_view_name": "LayoutView",
      "align_content": null,
      "align_items": null,
      "align_self": null,
      "border": null,
      "bottom": null,
      "display": null,
      "flex": null,
      "flex_flow": null,
      "grid_area": null,
      "grid_auto_columns": null,
      "grid_auto_flow": null,
      "grid_auto_rows": null,
      "grid_column": null,
      "grid_gap": null,
      "grid_row": null,
      "grid_template_areas": null,
      "grid_template_columns": null,
      "grid_template_rows": null,
      "height": null,
      "justify_content": null,
      "justify_items": null,
      "left": null,
      "margin": null,
      "max_height": null,
      "max_width": null,
      "min_height": null,
      "min_width": null,
      "object_fit": null,
      "object_position": null,
      "order": null,
      "overflow": null,
      "overflow_x": null,
      "overflow_y": null,
      "padding": null,
      "right": null,
      "top": null,
      "visibility": null,
      "width": null
     }
    },
    "d0f4e5602af645bdb9ee726f793c2583": {
     "model_module": "@jupyter-widgets/base",
     "model_module_version": "1.2.0",
     "model_name": "LayoutModel",
     "state": {
      "_model_module": "@jupyter-widgets/base",
      "_model_module_version": "1.2.0",
      "_model_name": "LayoutModel",
      "_view_count": null,
      "_view_module": "@jupyter-widgets/base",
      "_view_module_version": "1.2.0",
      "_view_name": "LayoutView",
      "align_content": null,
      "align_items": null,
      "align_self": null,
      "border": null,
      "bottom": null,
      "display": null,
      "flex": null,
      "flex_flow": null,
      "grid_area": null,
      "grid_auto_columns": null,
      "grid_auto_flow": null,
      "grid_auto_rows": null,
      "grid_column": null,
      "grid_gap": null,
      "grid_row": null,
      "grid_template_areas": null,
      "grid_template_columns": null,
      "grid_template_rows": null,
      "height": null,
      "justify_content": null,
      "justify_items": null,
      "left": null,
      "margin": null,
      "max_height": null,
      "max_width": null,
      "min_height": null,
      "min_width": null,
      "object_fit": null,
      "object_position": null,
      "order": null,
      "overflow": null,
      "overflow_x": null,
      "overflow_y": null,
      "padding": null,
      "right": null,
      "top": null,
      "visibility": null,
      "width": null
     }
    },
    "d2d345aa4eab46228aaf7da1633b2dcb": {
     "model_module": "@jupyter-widgets/controls",
     "model_module_version": "1.5.0",
     "model_name": "HTMLModel",
     "state": {
      "_dom_classes": [],
      "_model_module": "@jupyter-widgets/controls",
      "_model_module_version": "1.5.0",
      "_model_name": "HTMLModel",
      "_view_count": null,
      "_view_module": "@jupyter-widgets/controls",
      "_view_module_version": "1.5.0",
      "_view_name": "HTMLView",
      "description": "",
      "description_tooltip": null,
      "layout": "IPY_MODEL_1c24fcbbda48404db3c866432201bf8f",
      "placeholder": "​",
      "style": "IPY_MODEL_5a3df6bbf5a84b34b88078e2338dad08",
      "value": "2/10 * Epoch (train): 100%"
     }
    },
    "d48eed781aec492aac6b9e392b6f1dd1": {
     "model_module": "@jupyter-widgets/base",
     "model_module_version": "1.2.0",
     "model_name": "LayoutModel",
     "state": {
      "_model_module": "@jupyter-widgets/base",
      "_model_module_version": "1.2.0",
      "_model_name": "LayoutModel",
      "_view_count": null,
      "_view_module": "@jupyter-widgets/base",
      "_view_module_version": "1.2.0",
      "_view_name": "LayoutView",
      "align_content": null,
      "align_items": null,
      "align_self": null,
      "border": null,
      "bottom": null,
      "display": null,
      "flex": null,
      "flex_flow": null,
      "grid_area": null,
      "grid_auto_columns": null,
      "grid_auto_flow": null,
      "grid_auto_rows": null,
      "grid_column": null,
      "grid_gap": null,
      "grid_row": null,
      "grid_template_areas": null,
      "grid_template_columns": null,
      "grid_template_rows": null,
      "height": null,
      "justify_content": null,
      "justify_items": null,
      "left": null,
      "margin": null,
      "max_height": null,
      "max_width": null,
      "min_height": null,
      "min_width": null,
      "object_fit": null,
      "object_position": null,
      "order": null,
      "overflow": null,
      "overflow_x": null,
      "overflow_y": null,
      "padding": null,
      "right": null,
      "top": null,
      "visibility": null,
      "width": null
     }
    },
    "d4ded52d125e45af9a427f26f89fe53a": {
     "model_module": "@jupyter-widgets/base",
     "model_module_version": "1.2.0",
     "model_name": "LayoutModel",
     "state": {
      "_model_module": "@jupyter-widgets/base",
      "_model_module_version": "1.2.0",
      "_model_name": "LayoutModel",
      "_view_count": null,
      "_view_module": "@jupyter-widgets/base",
      "_view_module_version": "1.2.0",
      "_view_name": "LayoutView",
      "align_content": null,
      "align_items": null,
      "align_self": null,
      "border": null,
      "bottom": null,
      "display": null,
      "flex": null,
      "flex_flow": null,
      "grid_area": null,
      "grid_auto_columns": null,
      "grid_auto_flow": null,
      "grid_auto_rows": null,
      "grid_column": null,
      "grid_gap": null,
      "grid_row": null,
      "grid_template_areas": null,
      "grid_template_columns": null,
      "grid_template_rows": null,
      "height": null,
      "justify_content": null,
      "justify_items": null,
      "left": null,
      "margin": null,
      "max_height": null,
      "max_width": null,
      "min_height": null,
      "min_width": null,
      "object_fit": null,
      "object_position": null,
      "order": null,
      "overflow": null,
      "overflow_x": null,
      "overflow_y": null,
      "padding": null,
      "right": null,
      "top": null,
      "visibility": null,
      "width": null
     }
    },
    "d772bb2b39da4b968971e40de4009f88": {
     "model_module": "@jupyter-widgets/base",
     "model_module_version": "1.2.0",
     "model_name": "LayoutModel",
     "state": {
      "_model_module": "@jupyter-widgets/base",
      "_model_module_version": "1.2.0",
      "_model_name": "LayoutModel",
      "_view_count": null,
      "_view_module": "@jupyter-widgets/base",
      "_view_module_version": "1.2.0",
      "_view_name": "LayoutView",
      "align_content": null,
      "align_items": null,
      "align_self": null,
      "border": null,
      "bottom": null,
      "display": null,
      "flex": null,
      "flex_flow": null,
      "grid_area": null,
      "grid_auto_columns": null,
      "grid_auto_flow": null,
      "grid_auto_rows": null,
      "grid_column": null,
      "grid_gap": null,
      "grid_row": null,
      "grid_template_areas": null,
      "grid_template_columns": null,
      "grid_template_rows": null,
      "height": null,
      "justify_content": null,
      "justify_items": null,
      "left": null,
      "margin": null,
      "max_height": null,
      "max_width": null,
      "min_height": null,
      "min_width": null,
      "object_fit": null,
      "object_position": null,
      "order": null,
      "overflow": null,
      "overflow_x": null,
      "overflow_y": null,
      "padding": null,
      "right": null,
      "top": null,
      "visibility": null,
      "width": null
     }
    },
    "df953385466c46c09444eb77d307b649": {
     "model_module": "@jupyter-widgets/controls",
     "model_module_version": "1.5.0",
     "model_name": "DescriptionStyleModel",
     "state": {
      "_model_module": "@jupyter-widgets/controls",
      "_model_module_version": "1.5.0",
      "_model_name": "DescriptionStyleModel",
      "_view_count": null,
      "_view_module": "@jupyter-widgets/base",
      "_view_module_version": "1.2.0",
      "_view_name": "StyleView",
      "description_width": ""
     }
    },
    "e0988efbd6ef459e8a5ce7dced660a0b": {
     "model_module": "@jupyter-widgets/base",
     "model_module_version": "1.2.0",
     "model_name": "LayoutModel",
     "state": {
      "_model_module": "@jupyter-widgets/base",
      "_model_module_version": "1.2.0",
      "_model_name": "LayoutModel",
      "_view_count": null,
      "_view_module": "@jupyter-widgets/base",
      "_view_module_version": "1.2.0",
      "_view_name": "LayoutView",
      "align_content": null,
      "align_items": null,
      "align_self": null,
      "border": null,
      "bottom": null,
      "display": null,
      "flex": null,
      "flex_flow": null,
      "grid_area": null,
      "grid_auto_columns": null,
      "grid_auto_flow": null,
      "grid_auto_rows": null,
      "grid_column": null,
      "grid_gap": null,
      "grid_row": null,
      "grid_template_areas": null,
      "grid_template_columns": null,
      "grid_template_rows": null,
      "height": null,
      "justify_content": null,
      "justify_items": null,
      "left": null,
      "margin": null,
      "max_height": null,
      "max_width": null,
      "min_height": null,
      "min_width": null,
      "object_fit": null,
      "object_position": null,
      "order": null,
      "overflow": null,
      "overflow_x": null,
      "overflow_y": null,
      "padding": null,
      "right": null,
      "top": null,
      "visibility": null,
      "width": null
     }
    },
    "e640e63fc1874b43bb53987778cb1ade": {
     "model_module": "@jupyter-widgets/base",
     "model_module_version": "1.2.0",
     "model_name": "LayoutModel",
     "state": {
      "_model_module": "@jupyter-widgets/base",
      "_model_module_version": "1.2.0",
      "_model_name": "LayoutModel",
      "_view_count": null,
      "_view_module": "@jupyter-widgets/base",
      "_view_module_version": "1.2.0",
      "_view_name": "LayoutView",
      "align_content": null,
      "align_items": null,
      "align_self": null,
      "border": null,
      "bottom": null,
      "display": null,
      "flex": null,
      "flex_flow": null,
      "grid_area": null,
      "grid_auto_columns": null,
      "grid_auto_flow": null,
      "grid_auto_rows": null,
      "grid_column": null,
      "grid_gap": null,
      "grid_row": null,
      "grid_template_areas": null,
      "grid_template_columns": null,
      "grid_template_rows": null,
      "height": null,
      "justify_content": null,
      "justify_items": null,
      "left": null,
      "margin": null,
      "max_height": null,
      "max_width": null,
      "min_height": null,
      "min_width": null,
      "object_fit": null,
      "object_position": null,
      "order": null,
      "overflow": null,
      "overflow_x": null,
      "overflow_y": null,
      "padding": null,
      "right": null,
      "top": null,
      "visibility": null,
      "width": null
     }
    },
    "f17ff04e6c1747fa85d947d7ef244e8d": {
     "model_module": "@jupyter-widgets/controls",
     "model_module_version": "1.5.0",
     "model_name": "FloatProgressModel",
     "state": {
      "_dom_classes": [],
      "_model_module": "@jupyter-widgets/controls",
      "_model_module_version": "1.5.0",
      "_model_name": "FloatProgressModel",
      "_view_count": null,
      "_view_module": "@jupyter-widgets/controls",
      "_view_module_version": "1.5.0",
      "_view_name": "ProgressView",
      "bar_style": "success",
      "description": "",
      "description_tooltip": null,
      "layout": "IPY_MODEL_29f28b2e4e614e228c1089888e9d17fc",
      "max": 157,
      "min": 0,
      "orientation": "horizontal",
      "style": "IPY_MODEL_7c23b74cb0de44838c62347f7d0740c2",
      "value": 157
     }
    },
    "f7ef7e1b784f48db9e2a8b9fba9fa345": {
     "model_module": "@jupyter-widgets/controls",
     "model_module_version": "1.5.0",
     "model_name": "HTMLModel",
     "state": {
      "_dom_classes": [],
      "_model_module": "@jupyter-widgets/controls",
      "_model_module_version": "1.5.0",
      "_model_name": "HTMLModel",
      "_view_count": null,
      "_view_module": "@jupyter-widgets/controls",
      "_view_module_version": "1.5.0",
      "_view_name": "HTMLView",
      "description": "",
      "description_tooltip": null,
      "layout": "IPY_MODEL_a4a2215f9c2b4dec84022666da5a1fe9",
      "placeholder": "​",
      "style": "IPY_MODEL_50faf10de5a54573904e97a52e420fbd",
      "value": "5/10 * Epoch (train): 100%"
     }
    },
    "faa82fdcf359416fa190edf060f606a5": {
     "model_module": "@jupyter-widgets/controls",
     "model_module_version": "1.5.0",
     "model_name": "HBoxModel",
     "state": {
      "_dom_classes": [],
      "_model_module": "@jupyter-widgets/controls",
      "_model_module_version": "1.5.0",
      "_model_name": "HBoxModel",
      "_view_count": null,
      "_view_module": "@jupyter-widgets/controls",
      "_view_module_version": "1.5.0",
      "_view_name": "HBoxView",
      "box_style": "",
      "children": [
       "IPY_MODEL_09be706b2a7a4fd5a70e762769a3f972",
       "IPY_MODEL_7f732ce252624ed297bf890771e90f9e",
       "IPY_MODEL_547aaa2c549847d18c00399262ba3bdd"
      ],
      "layout": "IPY_MODEL_e0988efbd6ef459e8a5ce7dced660a0b"
     }
    },
    "fe05d0bcbb8d405b94aa28eafda8a0cc": {
     "model_module": "@jupyter-widgets/controls",
     "model_module_version": "1.5.0",
     "model_name": "HTMLModel",
     "state": {
      "_dom_classes": [],
      "_model_module": "@jupyter-widgets/controls",
      "_model_module_version": "1.5.0",
      "_model_name": "HTMLModel",
      "_view_count": null,
      "_view_module": "@jupyter-widgets/controls",
      "_view_module_version": "1.5.0",
      "_view_name": "HTMLView",
      "description": "",
      "description_tooltip": null,
      "layout": "IPY_MODEL_026306a287f349159f804aa450a78428",
      "placeholder": "​",
      "style": "IPY_MODEL_15ba47eccee64bc5834d86b206b11242",
      "value": " 157/157 [01:02&lt;00:00,  3.23it/s, hitrate50=0.140, loss=1171.672, lr=1.000e-03, map50=0.497, momentum=0.900, mrr50=0.609, ndcg50=0.271]"
     }
    }
   }
  }
 },
 "nbformat": 4,
 "nbformat_minor": 1
}